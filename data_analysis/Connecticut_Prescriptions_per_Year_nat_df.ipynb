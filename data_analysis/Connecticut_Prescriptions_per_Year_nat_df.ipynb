{
 "cells": [
  {
   "cell_type": "markdown",
   "id": "4823b9ab",
   "metadata": {},
   "source": [
    "# Connecticut Prescriptions per Year Step 1 Data Examination/Anaylsis"
   ]
  },
  {
   "cell_type": "code",
   "execution_count": 10,
   "id": "4d9b1fb5",
   "metadata": {},
   "outputs": [],
   "source": [
    "import pandas as pd\n",
    "import matplotlib.pyplot as plt\n",
    "import math\n",
    "import seaborn as sns\n",
    "import numpy as np"
   ]
  },
  {
   "cell_type": "code",
   "execution_count": 2,
   "id": "8ca1177f",
   "metadata": {},
   "outputs": [],
   "source": [
    "CT_Prescript_per_Year_df = pd.read_csv('../data/Connecticut_Prescriptions_per_Year.csv')"
   ]
  },
  {
   "cell_type": "code",
   "execution_count": 3,
   "id": "209048e5",
   "metadata": {},
   "outputs": [
    {
     "data": {
      "text/html": [
       "<div>\n",
       "<style scoped>\n",
       "    .dataframe tbody tr th:only-of-type {\n",
       "        vertical-align: middle;\n",
       "    }\n",
       "\n",
       "    .dataframe tbody tr th {\n",
       "        vertical-align: top;\n",
       "    }\n",
       "\n",
       "    .dataframe thead th {\n",
       "        text-align: right;\n",
       "    }\n",
       "</style>\n",
       "<table border=\"1\" class=\"dataframe\">\n",
       "  <thead>\n",
       "    <tr style=\"text-align: right;\">\n",
       "      <th></th>\n",
       "      <th>Year</th>\n",
       "      <th>Controlled Substance Prescriptions</th>\n",
       "      <th>Opioid Prescriptions</th>\n",
       "      <th>Benzodiazepine Prescriptions</th>\n",
       "    </tr>\n",
       "  </thead>\n",
       "  <tbody>\n",
       "    <tr>\n",
       "      <th>0</th>\n",
       "      <td>2014</td>\n",
       "      <td>6064563</td>\n",
       "      <td>2602050</td>\n",
       "      <td>1729192</td>\n",
       "    </tr>\n",
       "    <tr>\n",
       "      <th>1</th>\n",
       "      <td>2015</td>\n",
       "      <td>6249637</td>\n",
       "      <td>2625042</td>\n",
       "      <td>1667184</td>\n",
       "    </tr>\n",
       "    <tr>\n",
       "      <th>2</th>\n",
       "      <td>2016</td>\n",
       "      <td>6545550</td>\n",
       "      <td>2510702</td>\n",
       "      <td>1687910</td>\n",
       "    </tr>\n",
       "    <tr>\n",
       "      <th>3</th>\n",
       "      <td>2017</td>\n",
       "      <td>6724447</td>\n",
       "      <td>2161959</td>\n",
       "      <td>1617171</td>\n",
       "    </tr>\n",
       "    <tr>\n",
       "      <th>4</th>\n",
       "      <td>2018</td>\n",
       "      <td>6908152</td>\n",
       "      <td>1960988</td>\n",
       "      <td>1532053</td>\n",
       "    </tr>\n",
       "    <tr>\n",
       "      <th>5</th>\n",
       "      <td>2019</td>\n",
       "      <td>7330910</td>\n",
       "      <td>1946427</td>\n",
       "      <td>1458611</td>\n",
       "    </tr>\n",
       "    <tr>\n",
       "      <th>6</th>\n",
       "      <td>2020</td>\n",
       "      <td>8516519</td>\n",
       "      <td>1785575</td>\n",
       "      <td>1454611</td>\n",
       "    </tr>\n",
       "  </tbody>\n",
       "</table>\n",
       "</div>"
      ],
      "text/plain": [
       "   Year  Controlled Substance Prescriptions  Opioid Prescriptions  \\\n",
       "0  2014                             6064563               2602050   \n",
       "1  2015                             6249637               2625042   \n",
       "2  2016                             6545550               2510702   \n",
       "3  2017                             6724447               2161959   \n",
       "4  2018                             6908152               1960988   \n",
       "5  2019                             7330910               1946427   \n",
       "6  2020                             8516519               1785575   \n",
       "\n",
       "   Benzodiazepine Prescriptions  \n",
       "0                       1729192  \n",
       "1                       1667184  \n",
       "2                       1687910  \n",
       "3                       1617171  \n",
       "4                       1532053  \n",
       "5                       1458611  \n",
       "6                       1454611  "
      ]
     },
     "execution_count": 3,
     "metadata": {},
     "output_type": "execute_result"
    }
   ],
   "source": [
    "CT_Prescript_per_Year_df"
   ]
  },
  {
   "cell_type": "markdown",
   "id": "5e1e199c",
   "metadata": {},
   "source": [
    "# Data Frame Examination: "
   ]
  },
  {
   "cell_type": "markdown",
   "id": "d784c01b",
   "metadata": {},
   "source": [
    "### What are the dimenstions (number of rows and columns) of the data frame?"
   ]
  },
  {
   "cell_type": "code",
   "execution_count": 4,
   "id": "23c15e1e",
   "metadata": {},
   "outputs": [
    {
     "data": {
      "text/plain": [
       "(7, 4)"
      ]
     },
     "execution_count": 4,
     "metadata": {},
     "output_type": "execute_result"
    }
   ],
   "source": [
    "CT_Prescript_per_Year_df.shape"
   ]
  },
  {
   "cell_type": "markdown",
   "id": "160d875d",
   "metadata": {},
   "source": [
    "There are 7 rows and 4 columns. This is a small data frame. "
   ]
  },
  {
   "cell_type": "markdown",
   "id": "0b8832ff",
   "metadata": {},
   "source": [
    "### What does each row represent?"
   ]
  },
  {
   "cell_type": "markdown",
   "id": "f942f64d",
   "metadata": {},
   "source": [
    "Each row represents a year and the amount of prescriptions of a controlled substance, opioid, and benzodiazepine. "
   ]
  },
  {
   "cell_type": "markdown",
   "id": "04ecf370",
   "metadata": {},
   "source": [
    "### What do the columns mean? "
   ]
  },
  {
   "cell_type": "markdown",
   "id": "8b514306",
   "metadata": {},
   "source": [
    "There is a column for year, ranging from 2014-2020. Then there is a column for prescriptions of controlled substances, prescriptions for opioid, and prescriptions for benzodiazepine. "
   ]
  },
  {
   "cell_type": "markdown",
   "id": "9b06b743",
   "metadata": {},
   "source": [
    "# Data Cleaning "
   ]
  },
  {
   "cell_type": "markdown",
   "id": "06290d35",
   "metadata": {},
   "source": [
    "This data is already very clean, we are just going to rename the columns so they don't contain spaces. "
   ]
  },
  {
   "cell_type": "code",
   "execution_count": 5,
   "id": "e0398ede",
   "metadata": {},
   "outputs": [],
   "source": [
    "CT_Prescript_per_Year_df = CT_Prescript_per_Year_df.rename(columns={'Controlled Substance Prescriptions': 'controlled_substance_prescriptions',\n",
    "                                     'Opioid Prescriptions': 'opioid_prescriptions', 'Benzodiazepine Prescriptions': 'benzo_prescriptions'\n",
    "                                                                    \n",
    "                                     })"
   ]
  },
  {
   "cell_type": "code",
   "execution_count": 6,
   "id": "df409136",
   "metadata": {},
   "outputs": [
    {
     "data": {
      "text/html": [
       "<div>\n",
       "<style scoped>\n",
       "    .dataframe tbody tr th:only-of-type {\n",
       "        vertical-align: middle;\n",
       "    }\n",
       "\n",
       "    .dataframe tbody tr th {\n",
       "        vertical-align: top;\n",
       "    }\n",
       "\n",
       "    .dataframe thead th {\n",
       "        text-align: right;\n",
       "    }\n",
       "</style>\n",
       "<table border=\"1\" class=\"dataframe\">\n",
       "  <thead>\n",
       "    <tr style=\"text-align: right;\">\n",
       "      <th></th>\n",
       "      <th>Year</th>\n",
       "      <th>controlled_substance_prescriptions</th>\n",
       "      <th>opioid_prescriptions</th>\n",
       "      <th>benzo_prescriptions</th>\n",
       "    </tr>\n",
       "  </thead>\n",
       "  <tbody>\n",
       "    <tr>\n",
       "      <th>0</th>\n",
       "      <td>2014</td>\n",
       "      <td>6064563</td>\n",
       "      <td>2602050</td>\n",
       "      <td>1729192</td>\n",
       "    </tr>\n",
       "    <tr>\n",
       "      <th>1</th>\n",
       "      <td>2015</td>\n",
       "      <td>6249637</td>\n",
       "      <td>2625042</td>\n",
       "      <td>1667184</td>\n",
       "    </tr>\n",
       "    <tr>\n",
       "      <th>2</th>\n",
       "      <td>2016</td>\n",
       "      <td>6545550</td>\n",
       "      <td>2510702</td>\n",
       "      <td>1687910</td>\n",
       "    </tr>\n",
       "    <tr>\n",
       "      <th>3</th>\n",
       "      <td>2017</td>\n",
       "      <td>6724447</td>\n",
       "      <td>2161959</td>\n",
       "      <td>1617171</td>\n",
       "    </tr>\n",
       "    <tr>\n",
       "      <th>4</th>\n",
       "      <td>2018</td>\n",
       "      <td>6908152</td>\n",
       "      <td>1960988</td>\n",
       "      <td>1532053</td>\n",
       "    </tr>\n",
       "    <tr>\n",
       "      <th>5</th>\n",
       "      <td>2019</td>\n",
       "      <td>7330910</td>\n",
       "      <td>1946427</td>\n",
       "      <td>1458611</td>\n",
       "    </tr>\n",
       "    <tr>\n",
       "      <th>6</th>\n",
       "      <td>2020</td>\n",
       "      <td>8516519</td>\n",
       "      <td>1785575</td>\n",
       "      <td>1454611</td>\n",
       "    </tr>\n",
       "  </tbody>\n",
       "</table>\n",
       "</div>"
      ],
      "text/plain": [
       "   Year  controlled_substance_prescriptions  opioid_prescriptions  \\\n",
       "0  2014                             6064563               2602050   \n",
       "1  2015                             6249637               2625042   \n",
       "2  2016                             6545550               2510702   \n",
       "3  2017                             6724447               2161959   \n",
       "4  2018                             6908152               1960988   \n",
       "5  2019                             7330910               1946427   \n",
       "6  2020                             8516519               1785575   \n",
       "\n",
       "   benzo_prescriptions  \n",
       "0              1729192  \n",
       "1              1667184  \n",
       "2              1687910  \n",
       "3              1617171  \n",
       "4              1532053  \n",
       "5              1458611  \n",
       "6              1454611  "
      ]
     },
     "execution_count": 6,
     "metadata": {},
     "output_type": "execute_result"
    }
   ],
   "source": [
    "CT_Prescript_per_Year_df"
   ]
  },
  {
   "cell_type": "markdown",
   "id": "71847ff2",
   "metadata": {},
   "source": [
    "# Data Exploration"
   ]
  },
  {
   "cell_type": "markdown",
   "id": "88757d0e",
   "metadata": {},
   "source": [
    "### Examine the distribution in the relevant columns"
   ]
  },
  {
   "cell_type": "code",
   "execution_count": 7,
   "id": "2b315e65",
   "metadata": {},
   "outputs": [
    {
     "data": {
      "text/plain": [
       "2014    1\n",
       "2015    1\n",
       "2016    1\n",
       "2017    1\n",
       "2018    1\n",
       "2019    1\n",
       "2020    1\n",
       "Name: Year, dtype: int64"
      ]
     },
     "execution_count": 7,
     "metadata": {},
     "output_type": "execute_result"
    }
   ],
   "source": [
    "CT_Prescript_per_Year_df['Year'].value_counts()"
   ]
  },
  {
   "cell_type": "markdown",
   "id": "3c5dd1d9",
   "metadata": {},
   "source": [
    "The years range from 2014-2020"
   ]
  },
  {
   "cell_type": "code",
   "execution_count": 8,
   "id": "66cea4f5",
   "metadata": {},
   "outputs": [
    {
     "data": {
      "text/plain": [
       "2602050    1\n",
       "2625042    1\n",
       "2510702    1\n",
       "2161959    1\n",
       "1960988    1\n",
       "1946427    1\n",
       "1785575    1\n",
       "Name: opioid_prescriptions, dtype: int64"
      ]
     },
     "execution_count": 8,
     "metadata": {},
     "output_type": "execute_result"
    }
   ],
   "source": [
    "CT_Prescript_per_Year_df['opioid_prescriptions'].value_counts()"
   ]
  },
  {
   "cell_type": "markdown",
   "id": "0a9afbc8",
   "metadata": {},
   "source": [
    "The number of opioid prescriptions ranges from 1785575 to 2602050. "
   ]
  },
  {
   "cell_type": "markdown",
   "id": "abafcd4b",
   "metadata": {},
   "source": [
    "### Visualize the Data"
   ]
  },
  {
   "cell_type": "code",
   "execution_count": 9,
   "id": "6e291acd",
   "metadata": {},
   "outputs": [
    {
     "data": {
      "text/plain": [
       "<AxesSubplot:xlabel='Year'>"
      ]
     },
     "execution_count": 9,
     "metadata": {},
     "output_type": "execute_result"
    },
    {
     "data": {
      "image/png": "[encoded data removed]",
      "text/plain": [
       "<Figure size 432x288 with 1 Axes>"
      ]
     },
     "metadata": {
      "needs_background": "light"
     },
     "output_type": "display_data"
    }
   ],
   "source": [
    "CT_Prescript_per_Year_df.set_index('Year').plot()"
   ]
  },
  {
   "cell_type": "markdown",
   "id": "09975fd8",
   "metadata": {},
   "source": [
    "### Observations/Question from the data"
   ]
  },
  {
   "cell_type": "markdown",
   "id": "8c3a6882",
   "metadata": {},
   "source": [
    "If we look just at the opioid prescriptions, we can see that there has been a decrease in opioid prescriptions from 2014 to 2020. This could be due to increased attention to the opioid crisis in the recent years. Does this mean that opioid-related deaths have also decreased? TBD from our project! "
   ]
  }
 ],
 "metadata": {
  "kernelspec": {
   "display_name": "Python 3 (COMM318)",
   "language": "python",
   "name": "python3"
  },
  "language_info": {
   "codemirror_mode": {
    "name": "ipython",
    "version": 3
   },
   "file_extension": ".py",
   "mimetype": "text/x-python",
   "name": "python",
   "nbconvert_exporter": "python",
   "pygments_lexer": "ipython3",
   "version": "3.8.8"
  }
 },
 "nbformat": 4,
 "nbformat_minor": 5
}
