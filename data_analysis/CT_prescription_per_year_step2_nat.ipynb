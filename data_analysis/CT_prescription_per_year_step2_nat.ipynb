{
 "cells": [
  {
   "cell_type": "markdown",
   "id": "5bc9e418",
   "metadata": {},
   "source": [
    "# Connecticut Prescriptions Per Year Step 2 Data Analysis\n",
    "\n",
    "## Quetions, Steps, Code, Answer, Observations\n",
    "### Has the amount of opioid prescriptions in CT increased on decreased from 2014-2020?\n",
    "### Data: https://catalog.data.gov/dataset/connecticut-prescriptions-per-year"
   ]
  },
  {
   "cell_type": "code",
   "execution_count": 2,
   "id": "5f5c403e",
   "metadata": {},
   "outputs": [],
   "source": [
    "import pandas as pd\n",
    "import matplotlib.pyplot as plt\n",
    "import math\n",
    "import seaborn as sns\n",
    "import numpy as np"
   ]
  },
  {
   "cell_type": "markdown",
   "id": "1e735f7d",
   "metadata": {},
   "source": [
    "# Questions:\n",
    "### What are the main question that I am going to answer in this block? \n",
    "\n",
    "* Has opioid prescriptions increased or decreased from 2014-2020 in CT?\n",
    "* What is the percent change in opioid prescriptions from 2014 to 2020 "
   ]
  },
  {
   "cell_type": "markdown",
   "id": "71547dca",
   "metadata": {},
   "source": [
    "# Steps: \n",
    "\n",
    "### Lay out the conceptual analysis steps to go from data to the answer. \n",
    "\n",
    "* Step 1: Import the data\n",
    "* Step 2: Create a filter that just looks at opioid prescriptions in all of the years \n",
    "* Step 3: Create a plot with the opioid filter to visualize the data and determine if prescriptions ahve increased or decreased. \n",
    "* Step 4: Calculate the percent change from 2014 to 2020. "
   ]
  },
  {
   "cell_type": "markdown",
   "id": "be98cf02",
   "metadata": {},
   "source": [
    "# Code:"
   ]
  },
  {
   "cell_type": "code",
   "execution_count": 4,
   "id": "fcc9d40c",
   "metadata": {},
   "outputs": [],
   "source": [
    "#Step 1: Import the Data\n",
    "CT_Prescript_per_Year_df = pd.read_csv('../data/CT_prescipt_clean.csv')"
   ]
  },
  {
   "cell_type": "code",
   "execution_count": 6,
   "id": "28d108a5",
   "metadata": {},
   "outputs": [
    {
     "data": {
      "text/html": [
       "<div>\n",
       "<style scoped>\n",
       "    .dataframe tbody tr th:only-of-type {\n",
       "        vertical-align: middle;\n",
       "    }\n",
       "\n",
       "    .dataframe tbody tr th {\n",
       "        vertical-align: top;\n",
       "    }\n",
       "\n",
       "    .dataframe thead th {\n",
       "        text-align: right;\n",
       "    }\n",
       "</style>\n",
       "<table border=\"1\" class=\"dataframe\">\n",
       "  <thead>\n",
       "    <tr style=\"text-align: right;\">\n",
       "      <th></th>\n",
       "      <th>opioid_prescriptions</th>\n",
       "      <th>Year</th>\n",
       "    </tr>\n",
       "  </thead>\n",
       "  <tbody>\n",
       "    <tr>\n",
       "      <th>0</th>\n",
       "      <td>2602050</td>\n",
       "      <td>2014</td>\n",
       "    </tr>\n",
       "    <tr>\n",
       "      <th>1</th>\n",
       "      <td>2625042</td>\n",
       "      <td>2015</td>\n",
       "    </tr>\n",
       "    <tr>\n",
       "      <th>2</th>\n",
       "      <td>2510702</td>\n",
       "      <td>2016</td>\n",
       "    </tr>\n",
       "    <tr>\n",
       "      <th>3</th>\n",
       "      <td>2161959</td>\n",
       "      <td>2017</td>\n",
       "    </tr>\n",
       "    <tr>\n",
       "      <th>4</th>\n",
       "      <td>1960988</td>\n",
       "      <td>2018</td>\n",
       "    </tr>\n",
       "    <tr>\n",
       "      <th>5</th>\n",
       "      <td>1946427</td>\n",
       "      <td>2019</td>\n",
       "    </tr>\n",
       "    <tr>\n",
       "      <th>6</th>\n",
       "      <td>1785575</td>\n",
       "      <td>2020</td>\n",
       "    </tr>\n",
       "  </tbody>\n",
       "</table>\n",
       "</div>"
      ],
      "text/plain": [
       "   opioid_prescriptions  Year\n",
       "0               2602050  2014\n",
       "1               2625042  2015\n",
       "2               2510702  2016\n",
       "3               2161959  2017\n",
       "4               1960988  2018\n",
       "5               1946427  2019\n",
       "6               1785575  2020"
      ]
     },
     "execution_count": 6,
     "metadata": {},
     "output_type": "execute_result"
    }
   ],
   "source": [
    "#Step 2: Create an opioid filter \n",
    "opioid_filter = CT_Prescript_per_Year_df[['opioid_prescriptions', 'Year']]\n",
    "opioid_filter"
   ]
  },
  {
   "cell_type": "code",
   "execution_count": 7,
   "id": "a16f63e5",
   "metadata": {},
   "outputs": [
    {
     "data": {
      "text/plain": [
       "Text(0.5, 1.0, 'CT Opioid Prescriptions 2014-2020')"
      ]
     },
     "execution_count": 7,
     "metadata": {},
     "output_type": "execute_result"
    },
    {
     "data": {
      "image/png": "[encoded data removed]",
      "text/plain": [
       "<Figure size 432x288 with 1 Axes>"
      ]
     },
     "metadata": {
      "needs_background": "light"
     },
     "output_type": "display_data"
    }
   ],
   "source": [
    "#Step 3: Create a plot\n",
    "opioid_filter.set_index('Year').plot()\n",
    "plt.ylabel('Opioid Prescriptions (millions)')\n",
    "plt.title('CT Opioid Prescriptions 2014-2020')"
   ]
  },
  {
   "cell_type": "code",
   "execution_count": 8,
   "id": "1640cefd",
   "metadata": {},
   "outputs": [
    {
     "data": {
      "text/html": [
       "<div>\n",
       "<style scoped>\n",
       "    .dataframe tbody tr th:only-of-type {\n",
       "        vertical-align: middle;\n",
       "    }\n",
       "\n",
       "    .dataframe tbody tr th {\n",
       "        vertical-align: top;\n",
       "    }\n",
       "\n",
       "    .dataframe thead th {\n",
       "        text-align: right;\n",
       "    }\n",
       "</style>\n",
       "<table border=\"1\" class=\"dataframe\">\n",
       "  <thead>\n",
       "    <tr style=\"text-align: right;\">\n",
       "      <th></th>\n",
       "      <th>opioid_prescriptions</th>\n",
       "    </tr>\n",
       "    <tr>\n",
       "      <th>Year</th>\n",
       "      <th></th>\n",
       "    </tr>\n",
       "  </thead>\n",
       "  <tbody>\n",
       "    <tr>\n",
       "      <th>2014</th>\n",
       "      <td>NaN</td>\n",
       "    </tr>\n",
       "    <tr>\n",
       "      <th>2020</th>\n",
       "      <td>-0.313781</td>\n",
       "    </tr>\n",
       "  </tbody>\n",
       "</table>\n",
       "</div>"
      ],
      "text/plain": [
       "      opioid_prescriptions\n",
       "Year                      \n",
       "2014                   NaN\n",
       "2020             -0.313781"
      ]
     },
     "execution_count": 8,
     "metadata": {},
     "output_type": "execute_result"
    }
   ],
   "source": [
    "#Step 4: Calculate the percent change from 2014 to 2020 using the pct_change function. \n",
    "opioid_filter.set_index('Year').loc[[2014, 2020]].pct_change()"
   ]
  },
  {
   "cell_type": "markdown",
   "id": "6863f03d",
   "metadata": {},
   "source": [
    "A 31.4% __decrease__ in perscriptions"
   ]
  },
  {
   "cell_type": "markdown",
   "id": "e6d8b879",
   "metadata": {},
   "source": [
    "# Answer: \n",
    "\n",
    "The amount of opioid prescriptions has steadily decreased from 2014-2020. We can see this by looking at the actual numbers and the graph and we can also see this by looking at the decreasing percent change from 2014-2020. "
   ]
  },
  {
   "cell_type": "markdown",
   "id": "022f000c",
   "metadata": {},
   "source": [
    "# Interpretation/Observation: \n",
    "\n",
    "The steady decrease of opioid prescriptions could be due to increased attention to the opioid crisis in the recent years. After noticing this trend, our group also wants to look at opioid-related deaths in these years. Has a decrease in opioid prescriptions led to a decrease in deaths? "
   ]
  },
  {
   "cell_type": "code",
   "execution_count": null,
   "id": "5a467111",
   "metadata": {},
   "outputs": [],
   "source": []
  }
 ],
 "metadata": {
  "kernelspec": {
   "display_name": "Python 3 (COMM318)",
   "language": "python",
   "name": "python3"
  },
  "language_info": {
   "codemirror_mode": {
    "name": "ipython",
    "version": 3
   },
   "file_extension": ".py",
   "mimetype": "text/x-python",
   "name": "python",
   "nbconvert_exporter": "python",
   "pygments_lexer": "ipython3",
   "version": "3.8.8"
  }
 },
 "nbformat": 4,
 "nbformat_minor": 5
}
