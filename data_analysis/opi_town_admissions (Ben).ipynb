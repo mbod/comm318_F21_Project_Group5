{
 "cells": [
  {
   "cell_type": "markdown",
   "id": "728f67b0",
   "metadata": {},
   "source": [
    "# Opioid Admissions By CT Town\n",
    "\n",
    "### In this file, I examined the data regarding opioid admissions by town in the state of Connecticut over a 5 year period."
   ]
  },
  {
   "cell_type": "code",
   "execution_count": 1,
   "id": "9cca24ce",
   "metadata": {},
   "outputs": [],
   "source": [
    "import warnings\n",
    "warnings.simplefilter('ignore')\n",
    "\n",
    "import pandas as pd\n",
    "import matplotlib.pyplot as plt\n",
    "\n",
    "import geopandas as gpd\n",
    "from shapely import wkt"
   ]
  },
  {
   "cell_type": "markdown",
   "id": "1d9d55cd",
   "metadata": {},
   "source": [
    "------------"
   ]
  },
  {
   "cell_type": "code",
   "execution_count": 2,
   "id": "27881956",
   "metadata": {},
   "outputs": [],
   "source": [
    "opi_town_df = pd.read_csv('../data/opi_admission_by_town.csv')"
   ]
  },
  {
   "cell_type": "markdown",
   "id": "3a397558",
   "metadata": {},
   "source": [
    "### Data:\n",
    "* Opioid Admissions and Unduplicated Clients by Town, 2013-2018\n",
    "* https://catalog.data.gov/dataset/opioid-admissions-and-unduplicated-clients-by-town-2013-2018)"
   ]
  },
  {
   "cell_type": "markdown",
   "id": "d1bf2fdb",
   "metadata": {},
   "source": [
    "# Data Frame Exploration"
   ]
  },
  {
   "cell_type": "code",
   "execution_count": 3,
   "id": "b7e80bf5",
   "metadata": {},
   "outputs": [
    {
     "data": {
      "text/html": [
       "<div>\n",
       "<style scoped>\n",
       "    .dataframe tbody tr th:only-of-type {\n",
       "        vertical-align: middle;\n",
       "    }\n",
       "\n",
       "    .dataframe tbody tr th {\n",
       "        vertical-align: top;\n",
       "    }\n",
       "\n",
       "    .dataframe thead th {\n",
       "        text-align: right;\n",
       "    }\n",
       "</style>\n",
       "<table border=\"1\" class=\"dataframe\">\n",
       "  <thead>\n",
       "    <tr style=\"text-align: right;\">\n",
       "      <th></th>\n",
       "      <th>FiscalYear</th>\n",
       "      <th>Town</th>\n",
       "      <th>Admissions</th>\n",
       "      <th>Unduplicated Clients</th>\n",
       "      <th>TownGeo</th>\n",
       "    </tr>\n",
       "  </thead>\n",
       "  <tbody>\n",
       "    <tr>\n",
       "      <th>0</th>\n",
       "      <td>2016</td>\n",
       "      <td>Suffield</td>\n",
       "      <td>35.0</td>\n",
       "      <td>24.0</td>\n",
       "      <td>Suffield, CT\\n(41.983549, -72.663124)</td>\n",
       "    </tr>\n",
       "    <tr>\n",
       "      <th>1</th>\n",
       "      <td>2014</td>\n",
       "      <td>Thomaston</td>\n",
       "      <td>51.0</td>\n",
       "      <td>34.0</td>\n",
       "      <td>Thomaston, CT\\n(41.674124, -73.073189)</td>\n",
       "    </tr>\n",
       "    <tr>\n",
       "      <th>2</th>\n",
       "      <td>2013</td>\n",
       "      <td>Sprague</td>\n",
       "      <td>35.0</td>\n",
       "      <td>16.0</td>\n",
       "      <td>Sprague, CT\\n(41.640692, -72.066224)</td>\n",
       "    </tr>\n",
       "    <tr>\n",
       "      <th>3</th>\n",
       "      <td>2015</td>\n",
       "      <td>Monroe</td>\n",
       "      <td>83.0</td>\n",
       "      <td>46.0</td>\n",
       "      <td>Monroe, CT\\n(41.331612, -73.206797)</td>\n",
       "    </tr>\n",
       "    <tr>\n",
       "      <th>4</th>\n",
       "      <td>2016</td>\n",
       "      <td>Cheshire</td>\n",
       "      <td>85.0</td>\n",
       "      <td>50.0</td>\n",
       "      <td>Cheshire, CT\\n(41.498834, -72.901448)</td>\n",
       "    </tr>\n",
       "    <tr>\n",
       "      <th>...</th>\n",
       "      <td>...</td>\n",
       "      <td>...</td>\n",
       "      <td>...</td>\n",
       "      <td>...</td>\n",
       "      <td>...</td>\n",
       "    </tr>\n",
       "    <tr>\n",
       "      <th>845</th>\n",
       "      <td>2012</td>\n",
       "      <td>Salisbury</td>\n",
       "      <td>6.0</td>\n",
       "      <td>NaN</td>\n",
       "      <td>Salisbury, CT\\n(41.983411, -73.422268)</td>\n",
       "    </tr>\n",
       "    <tr>\n",
       "      <th>846</th>\n",
       "      <td>2013</td>\n",
       "      <td>Bridgewater</td>\n",
       "      <td>7.0</td>\n",
       "      <td>NaN</td>\n",
       "      <td>Bridgewater, CT\\n(41.535109, -73.366386)</td>\n",
       "    </tr>\n",
       "    <tr>\n",
       "      <th>847</th>\n",
       "      <td>2012</td>\n",
       "      <td>Lisbon</td>\n",
       "      <td>NaN</td>\n",
       "      <td>NaN</td>\n",
       "      <td>Lisbon, CT\\n(41.614599, -71.960584)</td>\n",
       "    </tr>\n",
       "    <tr>\n",
       "      <th>848</th>\n",
       "      <td>2016</td>\n",
       "      <td>Goshen</td>\n",
       "      <td>15.0</td>\n",
       "      <td>NaN</td>\n",
       "      <td>Goshen, CT\\n(41.831925, -73.225323)</td>\n",
       "    </tr>\n",
       "    <tr>\n",
       "      <th>849</th>\n",
       "      <td>2016</td>\n",
       "      <td>Scotland</td>\n",
       "      <td>8.0</td>\n",
       "      <td>NaN</td>\n",
       "      <td>Scotland, CT\\n(41.6975, -72.119465)</td>\n",
       "    </tr>\n",
       "  </tbody>\n",
       "</table>\n",
       "<p>850 rows × 5 columns</p>\n",
       "</div>"
      ],
      "text/plain": [
       "     FiscalYear         Town  Admissions  Unduplicated Clients  \\\n",
       "0          2016     Suffield        35.0                  24.0   \n",
       "1          2014    Thomaston        51.0                  34.0   \n",
       "2          2013      Sprague        35.0                  16.0   \n",
       "3          2015       Monroe        83.0                  46.0   \n",
       "4          2016     Cheshire        85.0                  50.0   \n",
       "..          ...          ...         ...                   ...   \n",
       "845        2012    Salisbury         6.0                   NaN   \n",
       "846        2013  Bridgewater         7.0                   NaN   \n",
       "847        2012       Lisbon         NaN                   NaN   \n",
       "848        2016       Goshen        15.0                   NaN   \n",
       "849        2016     Scotland         8.0                   NaN   \n",
       "\n",
       "                                      TownGeo  \n",
       "0       Suffield, CT\\n(41.983549, -72.663124)  \n",
       "1      Thomaston, CT\\n(41.674124, -73.073189)  \n",
       "2        Sprague, CT\\n(41.640692, -72.066224)  \n",
       "3         Monroe, CT\\n(41.331612, -73.206797)  \n",
       "4       Cheshire, CT\\n(41.498834, -72.901448)  \n",
       "..                                        ...  \n",
       "845    Salisbury, CT\\n(41.983411, -73.422268)  \n",
       "846  Bridgewater, CT\\n(41.535109, -73.366386)  \n",
       "847       Lisbon, CT\\n(41.614599, -71.960584)  \n",
       "848       Goshen, CT\\n(41.831925, -73.225323)  \n",
       "849       Scotland, CT\\n(41.6975, -72.119465)  \n",
       "\n",
       "[850 rows x 5 columns]"
      ]
     },
     "execution_count": 3,
     "metadata": {},
     "output_type": "execute_result"
    }
   ],
   "source": [
    "opi_town_df"
   ]
  },
  {
   "cell_type": "markdown",
   "id": "d3a595c5",
   "metadata": {},
   "source": [
    "### What are the dimensions (number of rows and columns) of the data frame?"
   ]
  },
  {
   "cell_type": "code",
   "execution_count": 4,
   "id": "a0bebf70",
   "metadata": {},
   "outputs": [
    {
     "data": {
      "text/plain": [
       "(850, 5)"
      ]
     },
     "execution_count": 4,
     "metadata": {},
     "output_type": "execute_result"
    }
   ],
   "source": [
    "opi_town_df.shape"
   ]
  },
  {
   "cell_type": "markdown",
   "id": "14a85025",
   "metadata": {},
   "source": [
    "There are 850 rows & 8 columns. This is a large dataframe."
   ]
  },
  {
   "cell_type": "markdown",
   "id": "8814eacf",
   "metadata": {},
   "source": [
    "### What does each row represent?"
   ]
  },
  {
   "cell_type": "markdown",
   "id": "6665059b",
   "metadata": {},
   "source": [
    "Each row represents the admissions for a given town of CT for a fiscal year."
   ]
  },
  {
   "cell_type": "markdown",
   "id": "75d1d369",
   "metadata": {},
   "source": [
    "### What do the columns mean? "
   ]
  },
  {
   "cell_type": "markdown",
   "id": "bdc2dec3",
   "metadata": {},
   "source": [
    "There are 5 columns:\n",
    "* FiscalYear = year\n",
    "* Town = town\n",
    "* Admissions = total admissions to opioid treatment facilities\n",
    "* Unduplicated Clients = total unique admissions to opi treatment facilities\n",
    "* TownGeo = town's geographical coordinates (to be used to map data)"
   ]
  },
  {
   "cell_type": "markdown",
   "id": "4559efa7",
   "metadata": {},
   "source": [
    "# Data Cleaning "
   ]
  },
  {
   "cell_type": "code",
   "execution_count": 5,
   "id": "d227dc16",
   "metadata": {},
   "outputs": [],
   "source": [
    "# rename opi_town_df columns\n",
    "opi_town_df = opi_town_df.rename(columns={'FiscalYear': 'year',\n",
    "                                     'Town': 'town', 'Admissions': 'admis','Unduplicated Clients': 'undup_clients', 'TownGeo': 'town_geo'           \n",
    "                                         })"
   ]
  },
  {
   "cell_type": "code",
   "execution_count": 6,
   "id": "f62b529a",
   "metadata": {},
   "outputs": [],
   "source": [
    "# function that splits town_geo to lat & long coordinates\n",
    "def extract_geo(col):\n",
    "    # extract lat and lng data from town_geo string column\n",
    "    town, geo_str = col['town_geo'].split('\\n')\n",
    "    lat, lng= geo_str.replace('(','').replace(')','').split(', ')\n",
    "    return lat, lng"
   ]
  },
  {
   "cell_type": "code",
   "execution_count": 7,
   "id": "4432ac08",
   "metadata": {},
   "outputs": [],
   "source": [
    "# revised way to assign both columns at the same time\n",
    "opi_town_df[['lat','lng']]=opi_town_df.apply(extract_geo, axis=1,result_type='expand')"
   ]
  },
  {
   "cell_type": "code",
   "execution_count": 8,
   "id": "d6b9a957",
   "metadata": {
    "scrolled": true
   },
   "outputs": [
    {
     "data": {
      "text/html": [
       "<div>\n",
       "<style scoped>\n",
       "    .dataframe tbody tr th:only-of-type {\n",
       "        vertical-align: middle;\n",
       "    }\n",
       "\n",
       "    .dataframe tbody tr th {\n",
       "        vertical-align: top;\n",
       "    }\n",
       "\n",
       "    .dataframe thead th {\n",
       "        text-align: right;\n",
       "    }\n",
       "</style>\n",
       "<table border=\"1\" class=\"dataframe\">\n",
       "  <thead>\n",
       "    <tr style=\"text-align: right;\">\n",
       "      <th></th>\n",
       "      <th>year</th>\n",
       "      <th>town</th>\n",
       "      <th>admis</th>\n",
       "      <th>undup_clients</th>\n",
       "      <th>town_geo</th>\n",
       "      <th>lat</th>\n",
       "      <th>lng</th>\n",
       "    </tr>\n",
       "  </thead>\n",
       "  <tbody>\n",
       "    <tr>\n",
       "      <th>0</th>\n",
       "      <td>2016</td>\n",
       "      <td>Suffield</td>\n",
       "      <td>35.0</td>\n",
       "      <td>24.0</td>\n",
       "      <td>Suffield, CT\\n(41.983549, -72.663124)</td>\n",
       "      <td>41.983549</td>\n",
       "      <td>-72.663124</td>\n",
       "    </tr>\n",
       "    <tr>\n",
       "      <th>1</th>\n",
       "      <td>2014</td>\n",
       "      <td>Thomaston</td>\n",
       "      <td>51.0</td>\n",
       "      <td>34.0</td>\n",
       "      <td>Thomaston, CT\\n(41.674124, -73.073189)</td>\n",
       "      <td>41.674124</td>\n",
       "      <td>-73.073189</td>\n",
       "    </tr>\n",
       "    <tr>\n",
       "      <th>2</th>\n",
       "      <td>2013</td>\n",
       "      <td>Sprague</td>\n",
       "      <td>35.0</td>\n",
       "      <td>16.0</td>\n",
       "      <td>Sprague, CT\\n(41.640692, -72.066224)</td>\n",
       "      <td>41.640692</td>\n",
       "      <td>-72.066224</td>\n",
       "    </tr>\n",
       "    <tr>\n",
       "      <th>3</th>\n",
       "      <td>2015</td>\n",
       "      <td>Monroe</td>\n",
       "      <td>83.0</td>\n",
       "      <td>46.0</td>\n",
       "      <td>Monroe, CT\\n(41.331612, -73.206797)</td>\n",
       "      <td>41.331612</td>\n",
       "      <td>-73.206797</td>\n",
       "    </tr>\n",
       "    <tr>\n",
       "      <th>4</th>\n",
       "      <td>2016</td>\n",
       "      <td>Cheshire</td>\n",
       "      <td>85.0</td>\n",
       "      <td>50.0</td>\n",
       "      <td>Cheshire, CT\\n(41.498834, -72.901448)</td>\n",
       "      <td>41.498834</td>\n",
       "      <td>-72.901448</td>\n",
       "    </tr>\n",
       "    <tr>\n",
       "      <th>...</th>\n",
       "      <td>...</td>\n",
       "      <td>...</td>\n",
       "      <td>...</td>\n",
       "      <td>...</td>\n",
       "      <td>...</td>\n",
       "      <td>...</td>\n",
       "      <td>...</td>\n",
       "    </tr>\n",
       "    <tr>\n",
       "      <th>845</th>\n",
       "      <td>2012</td>\n",
       "      <td>Salisbury</td>\n",
       "      <td>6.0</td>\n",
       "      <td>NaN</td>\n",
       "      <td>Salisbury, CT\\n(41.983411, -73.422268)</td>\n",
       "      <td>41.983411</td>\n",
       "      <td>-73.422268</td>\n",
       "    </tr>\n",
       "    <tr>\n",
       "      <th>846</th>\n",
       "      <td>2013</td>\n",
       "      <td>Bridgewater</td>\n",
       "      <td>7.0</td>\n",
       "      <td>NaN</td>\n",
       "      <td>Bridgewater, CT\\n(41.535109, -73.366386)</td>\n",
       "      <td>41.535109</td>\n",
       "      <td>-73.366386</td>\n",
       "    </tr>\n",
       "    <tr>\n",
       "      <th>847</th>\n",
       "      <td>2012</td>\n",
       "      <td>Lisbon</td>\n",
       "      <td>NaN</td>\n",
       "      <td>NaN</td>\n",
       "      <td>Lisbon, CT\\n(41.614599, -71.960584)</td>\n",
       "      <td>41.614599</td>\n",
       "      <td>-71.960584</td>\n",
       "    </tr>\n",
       "    <tr>\n",
       "      <th>848</th>\n",
       "      <td>2016</td>\n",
       "      <td>Goshen</td>\n",
       "      <td>15.0</td>\n",
       "      <td>NaN</td>\n",
       "      <td>Goshen, CT\\n(41.831925, -73.225323)</td>\n",
       "      <td>41.831925</td>\n",
       "      <td>-73.225323</td>\n",
       "    </tr>\n",
       "    <tr>\n",
       "      <th>849</th>\n",
       "      <td>2016</td>\n",
       "      <td>Scotland</td>\n",
       "      <td>8.0</td>\n",
       "      <td>NaN</td>\n",
       "      <td>Scotland, CT\\n(41.6975, -72.119465)</td>\n",
       "      <td>41.6975</td>\n",
       "      <td>-72.119465</td>\n",
       "    </tr>\n",
       "  </tbody>\n",
       "</table>\n",
       "<p>850 rows × 7 columns</p>\n",
       "</div>"
      ],
      "text/plain": [
       "     year         town  admis  undup_clients  \\\n",
       "0    2016     Suffield   35.0           24.0   \n",
       "1    2014    Thomaston   51.0           34.0   \n",
       "2    2013      Sprague   35.0           16.0   \n",
       "3    2015       Monroe   83.0           46.0   \n",
       "4    2016     Cheshire   85.0           50.0   \n",
       "..    ...          ...    ...            ...   \n",
       "845  2012    Salisbury    6.0            NaN   \n",
       "846  2013  Bridgewater    7.0            NaN   \n",
       "847  2012       Lisbon    NaN            NaN   \n",
       "848  2016       Goshen   15.0            NaN   \n",
       "849  2016     Scotland    8.0            NaN   \n",
       "\n",
       "                                     town_geo        lat         lng  \n",
       "0       Suffield, CT\\n(41.983549, -72.663124)  41.983549  -72.663124  \n",
       "1      Thomaston, CT\\n(41.674124, -73.073189)  41.674124  -73.073189  \n",
       "2        Sprague, CT\\n(41.640692, -72.066224)  41.640692  -72.066224  \n",
       "3         Monroe, CT\\n(41.331612, -73.206797)  41.331612  -73.206797  \n",
       "4       Cheshire, CT\\n(41.498834, -72.901448)  41.498834  -72.901448  \n",
       "..                                        ...        ...         ...  \n",
       "845    Salisbury, CT\\n(41.983411, -73.422268)  41.983411  -73.422268  \n",
       "846  Bridgewater, CT\\n(41.535109, -73.366386)  41.535109  -73.366386  \n",
       "847       Lisbon, CT\\n(41.614599, -71.960584)  41.614599  -71.960584  \n",
       "848       Goshen, CT\\n(41.831925, -73.225323)  41.831925  -73.225323  \n",
       "849       Scotland, CT\\n(41.6975, -72.119465)    41.6975  -72.119465  \n",
       "\n",
       "[850 rows x 7 columns]"
      ]
     },
     "execution_count": 8,
     "metadata": {},
     "output_type": "execute_result"
    }
   ],
   "source": [
    "opi_town_df"
   ]
  },
  {
   "cell_type": "code",
   "execution_count": 9,
   "id": "ca18b4d3",
   "metadata": {
    "scrolled": true
   },
   "outputs": [
    {
     "data": {
      "text/html": [
       "<div>\n",
       "<style scoped>\n",
       "    .dataframe tbody tr th:only-of-type {\n",
       "        vertical-align: middle;\n",
       "    }\n",
       "\n",
       "    .dataframe tbody tr th {\n",
       "        vertical-align: top;\n",
       "    }\n",
       "\n",
       "    .dataframe thead th {\n",
       "        text-align: right;\n",
       "    }\n",
       "</style>\n",
       "<table border=\"1\" class=\"dataframe\">\n",
       "  <thead>\n",
       "    <tr style=\"text-align: right;\">\n",
       "      <th></th>\n",
       "      <th>year</th>\n",
       "      <th>town</th>\n",
       "      <th>admis</th>\n",
       "      <th>undup_clients</th>\n",
       "      <th>lat</th>\n",
       "      <th>lng</th>\n",
       "    </tr>\n",
       "  </thead>\n",
       "  <tbody>\n",
       "    <tr>\n",
       "      <th>0</th>\n",
       "      <td>2016</td>\n",
       "      <td>Suffield</td>\n",
       "      <td>35.0</td>\n",
       "      <td>24.0</td>\n",
       "      <td>41.983549</td>\n",
       "      <td>-72.663124</td>\n",
       "    </tr>\n",
       "    <tr>\n",
       "      <th>1</th>\n",
       "      <td>2014</td>\n",
       "      <td>Thomaston</td>\n",
       "      <td>51.0</td>\n",
       "      <td>34.0</td>\n",
       "      <td>41.674124</td>\n",
       "      <td>-73.073189</td>\n",
       "    </tr>\n",
       "    <tr>\n",
       "      <th>2</th>\n",
       "      <td>2013</td>\n",
       "      <td>Sprague</td>\n",
       "      <td>35.0</td>\n",
       "      <td>16.0</td>\n",
       "      <td>41.640692</td>\n",
       "      <td>-72.066224</td>\n",
       "    </tr>\n",
       "    <tr>\n",
       "      <th>3</th>\n",
       "      <td>2015</td>\n",
       "      <td>Monroe</td>\n",
       "      <td>83.0</td>\n",
       "      <td>46.0</td>\n",
       "      <td>41.331612</td>\n",
       "      <td>-73.206797</td>\n",
       "    </tr>\n",
       "    <tr>\n",
       "      <th>4</th>\n",
       "      <td>2016</td>\n",
       "      <td>Cheshire</td>\n",
       "      <td>85.0</td>\n",
       "      <td>50.0</td>\n",
       "      <td>41.498834</td>\n",
       "      <td>-72.901448</td>\n",
       "    </tr>\n",
       "    <tr>\n",
       "      <th>...</th>\n",
       "      <td>...</td>\n",
       "      <td>...</td>\n",
       "      <td>...</td>\n",
       "      <td>...</td>\n",
       "      <td>...</td>\n",
       "      <td>...</td>\n",
       "    </tr>\n",
       "    <tr>\n",
       "      <th>845</th>\n",
       "      <td>2012</td>\n",
       "      <td>Salisbury</td>\n",
       "      <td>6.0</td>\n",
       "      <td>NaN</td>\n",
       "      <td>41.983411</td>\n",
       "      <td>-73.422268</td>\n",
       "    </tr>\n",
       "    <tr>\n",
       "      <th>846</th>\n",
       "      <td>2013</td>\n",
       "      <td>Bridgewater</td>\n",
       "      <td>7.0</td>\n",
       "      <td>NaN</td>\n",
       "      <td>41.535109</td>\n",
       "      <td>-73.366386</td>\n",
       "    </tr>\n",
       "    <tr>\n",
       "      <th>847</th>\n",
       "      <td>2012</td>\n",
       "      <td>Lisbon</td>\n",
       "      <td>NaN</td>\n",
       "      <td>NaN</td>\n",
       "      <td>41.614599</td>\n",
       "      <td>-71.960584</td>\n",
       "    </tr>\n",
       "    <tr>\n",
       "      <th>848</th>\n",
       "      <td>2016</td>\n",
       "      <td>Goshen</td>\n",
       "      <td>15.0</td>\n",
       "      <td>NaN</td>\n",
       "      <td>41.831925</td>\n",
       "      <td>-73.225323</td>\n",
       "    </tr>\n",
       "    <tr>\n",
       "      <th>849</th>\n",
       "      <td>2016</td>\n",
       "      <td>Scotland</td>\n",
       "      <td>8.0</td>\n",
       "      <td>NaN</td>\n",
       "      <td>41.6975</td>\n",
       "      <td>-72.119465</td>\n",
       "    </tr>\n",
       "  </tbody>\n",
       "</table>\n",
       "<p>850 rows × 6 columns</p>\n",
       "</div>"
      ],
      "text/plain": [
       "     year         town  admis  undup_clients        lat         lng\n",
       "0    2016     Suffield   35.0           24.0  41.983549  -72.663124\n",
       "1    2014    Thomaston   51.0           34.0  41.674124  -73.073189\n",
       "2    2013      Sprague   35.0           16.0  41.640692  -72.066224\n",
       "3    2015       Monroe   83.0           46.0  41.331612  -73.206797\n",
       "4    2016     Cheshire   85.0           50.0  41.498834  -72.901448\n",
       "..    ...          ...    ...            ...        ...         ...\n",
       "845  2012    Salisbury    6.0            NaN  41.983411  -73.422268\n",
       "846  2013  Bridgewater    7.0            NaN  41.535109  -73.366386\n",
       "847  2012       Lisbon    NaN            NaN  41.614599  -71.960584\n",
       "848  2016       Goshen   15.0            NaN  41.831925  -73.225323\n",
       "849  2016     Scotland    8.0            NaN    41.6975  -72.119465\n",
       "\n",
       "[850 rows x 6 columns]"
      ]
     },
     "execution_count": 9,
     "metadata": {},
     "output_type": "execute_result"
    }
   ],
   "source": [
    "opi_town_df.drop(['town_geo'], axis=1)"
   ]
  },
  {
   "cell_type": "code",
   "execution_count": 10,
   "id": "a8578d9d",
   "metadata": {},
   "outputs": [],
   "source": [
    "# create geometry\n",
    "geom=gpd.points_from_xy(opi_town_df['lng'], opi_town_df['lat'])"
   ]
  },
  {
   "cell_type": "code",
   "execution_count": 11,
   "id": "eeac0d4a",
   "metadata": {},
   "outputs": [],
   "source": [
    "# transform Pandas DF to a GeoPandas DF\n",
    "opi_town_gdf = gpd.GeoDataFrame(opi_town_df, geometry=geom)"
   ]
  },
  {
   "cell_type": "code",
   "execution_count": 12,
   "id": "57277239",
   "metadata": {},
   "outputs": [
    {
     "data": {
      "text/plain": [
       "geopandas.geodataframe.GeoDataFrame"
      ]
     },
     "execution_count": 12,
     "metadata": {},
     "output_type": "execute_result"
    }
   ],
   "source": [
    "type(opi_town_gdf)"
   ]
  },
  {
   "cell_type": "code",
   "execution_count": 13,
   "id": "f84db4c4",
   "metadata": {},
   "outputs": [
    {
     "data": {
      "text/plain": [
       "<AxesSubplot:>"
      ]
     },
     "execution_count": 13,
     "metadata": {},
     "output_type": "execute_result"
    },
    {
     "data": {
      "image/png": "[encoded data removed]",
      "text/plain": [
       "<Figure size 432x288 with 1 Axes>"
      ]
     },
     "metadata": {
      "needs_background": "light"
     },
     "output_type": "display_data"
    }
   ],
   "source": [
    "opi_town_gdf.plot()"
   ]
  },
  {
   "cell_type": "code",
   "execution_count": 14,
   "id": "19491a0a",
   "metadata": {},
   "outputs": [],
   "source": [
    "# assign new gdf to file\n",
    "opi_town_gdf.to_file('../data/opi_admission_by_town.geojson', driver='GeoJSON')"
   ]
  },
  {
   "cell_type": "code",
   "execution_count": 15,
   "id": "a46ad2ab",
   "metadata": {},
   "outputs": [],
   "source": [
    "# name new gdf\n",
    "towns_gdf = gpd.read_file('../data/opi_admission_by_town.geojson')"
   ]
  },
  {
   "cell_type": "code",
   "execution_count": 16,
   "id": "04eed5af",
   "metadata": {},
   "outputs": [],
   "source": [
    "opi_town_df['admis'] = opi_town_df['admis'].round(decimals = 0)"
   ]
  },
  {
   "cell_type": "code",
   "execution_count": 17,
   "id": "072d1c7e",
   "metadata": {},
   "outputs": [
    {
     "data": {
      "text/html": [
       "<div>\n",
       "<style scoped>\n",
       "    .dataframe tbody tr th:only-of-type {\n",
       "        vertical-align: middle;\n",
       "    }\n",
       "\n",
       "    .dataframe tbody tr th {\n",
       "        vertical-align: top;\n",
       "    }\n",
       "\n",
       "    .dataframe thead th {\n",
       "        text-align: right;\n",
       "    }\n",
       "</style>\n",
       "<table border=\"1\" class=\"dataframe\">\n",
       "  <thead>\n",
       "    <tr style=\"text-align: right;\">\n",
       "      <th></th>\n",
       "      <th>year</th>\n",
       "      <th>town</th>\n",
       "      <th>admis</th>\n",
       "      <th>undup_clients</th>\n",
       "      <th>town_geo</th>\n",
       "      <th>lat</th>\n",
       "      <th>lng</th>\n",
       "      <th>geometry</th>\n",
       "    </tr>\n",
       "  </thead>\n",
       "  <tbody>\n",
       "    <tr>\n",
       "      <th>0</th>\n",
       "      <td>2016</td>\n",
       "      <td>Suffield</td>\n",
       "      <td>35.0</td>\n",
       "      <td>24.0</td>\n",
       "      <td>Suffield, CT\\n(41.983549, -72.663124)</td>\n",
       "      <td>41.983549</td>\n",
       "      <td>-72.663124</td>\n",
       "      <td>POINT (-72.66312 41.98355)</td>\n",
       "    </tr>\n",
       "    <tr>\n",
       "      <th>1</th>\n",
       "      <td>2014</td>\n",
       "      <td>Thomaston</td>\n",
       "      <td>51.0</td>\n",
       "      <td>34.0</td>\n",
       "      <td>Thomaston, CT\\n(41.674124, -73.073189)</td>\n",
       "      <td>41.674124</td>\n",
       "      <td>-73.073189</td>\n",
       "      <td>POINT (-73.07319 41.67412)</td>\n",
       "    </tr>\n",
       "    <tr>\n",
       "      <th>2</th>\n",
       "      <td>2013</td>\n",
       "      <td>Sprague</td>\n",
       "      <td>35.0</td>\n",
       "      <td>16.0</td>\n",
       "      <td>Sprague, CT\\n(41.640692, -72.066224)</td>\n",
       "      <td>41.640692</td>\n",
       "      <td>-72.066224</td>\n",
       "      <td>POINT (-72.06622 41.64069)</td>\n",
       "    </tr>\n",
       "    <tr>\n",
       "      <th>3</th>\n",
       "      <td>2015</td>\n",
       "      <td>Monroe</td>\n",
       "      <td>83.0</td>\n",
       "      <td>46.0</td>\n",
       "      <td>Monroe, CT\\n(41.331612, -73.206797)</td>\n",
       "      <td>41.331612</td>\n",
       "      <td>-73.206797</td>\n",
       "      <td>POINT (-73.20680 41.33161)</td>\n",
       "    </tr>\n",
       "    <tr>\n",
       "      <th>4</th>\n",
       "      <td>2016</td>\n",
       "      <td>Cheshire</td>\n",
       "      <td>85.0</td>\n",
       "      <td>50.0</td>\n",
       "      <td>Cheshire, CT\\n(41.498834, -72.901448)</td>\n",
       "      <td>41.498834</td>\n",
       "      <td>-72.901448</td>\n",
       "      <td>POINT (-72.90145 41.49883)</td>\n",
       "    </tr>\n",
       "    <tr>\n",
       "      <th>...</th>\n",
       "      <td>...</td>\n",
       "      <td>...</td>\n",
       "      <td>...</td>\n",
       "      <td>...</td>\n",
       "      <td>...</td>\n",
       "      <td>...</td>\n",
       "      <td>...</td>\n",
       "      <td>...</td>\n",
       "    </tr>\n",
       "    <tr>\n",
       "      <th>845</th>\n",
       "      <td>2012</td>\n",
       "      <td>Salisbury</td>\n",
       "      <td>6.0</td>\n",
       "      <td>NaN</td>\n",
       "      <td>Salisbury, CT\\n(41.983411, -73.422268)</td>\n",
       "      <td>41.983411</td>\n",
       "      <td>-73.422268</td>\n",
       "      <td>POINT (-73.42227 41.98341)</td>\n",
       "    </tr>\n",
       "    <tr>\n",
       "      <th>846</th>\n",
       "      <td>2013</td>\n",
       "      <td>Bridgewater</td>\n",
       "      <td>7.0</td>\n",
       "      <td>NaN</td>\n",
       "      <td>Bridgewater, CT\\n(41.535109, -73.366386)</td>\n",
       "      <td>41.535109</td>\n",
       "      <td>-73.366386</td>\n",
       "      <td>POINT (-73.36639 41.53511)</td>\n",
       "    </tr>\n",
       "    <tr>\n",
       "      <th>847</th>\n",
       "      <td>2012</td>\n",
       "      <td>Lisbon</td>\n",
       "      <td>NaN</td>\n",
       "      <td>NaN</td>\n",
       "      <td>Lisbon, CT\\n(41.614599, -71.960584)</td>\n",
       "      <td>41.614599</td>\n",
       "      <td>-71.960584</td>\n",
       "      <td>POINT (-71.96058 41.61460)</td>\n",
       "    </tr>\n",
       "    <tr>\n",
       "      <th>848</th>\n",
       "      <td>2016</td>\n",
       "      <td>Goshen</td>\n",
       "      <td>15.0</td>\n",
       "      <td>NaN</td>\n",
       "      <td>Goshen, CT\\n(41.831925, -73.225323)</td>\n",
       "      <td>41.831925</td>\n",
       "      <td>-73.225323</td>\n",
       "      <td>POINT (-73.22532 41.83192)</td>\n",
       "    </tr>\n",
       "    <tr>\n",
       "      <th>849</th>\n",
       "      <td>2016</td>\n",
       "      <td>Scotland</td>\n",
       "      <td>8.0</td>\n",
       "      <td>NaN</td>\n",
       "      <td>Scotland, CT\\n(41.6975, -72.119465)</td>\n",
       "      <td>41.6975</td>\n",
       "      <td>-72.119465</td>\n",
       "      <td>POINT (-72.11947 41.69750)</td>\n",
       "    </tr>\n",
       "  </tbody>\n",
       "</table>\n",
       "<p>850 rows × 8 columns</p>\n",
       "</div>"
      ],
      "text/plain": [
       "     year         town  admis  undup_clients  \\\n",
       "0    2016     Suffield   35.0           24.0   \n",
       "1    2014    Thomaston   51.0           34.0   \n",
       "2    2013      Sprague   35.0           16.0   \n",
       "3    2015       Monroe   83.0           46.0   \n",
       "4    2016     Cheshire   85.0           50.0   \n",
       "..    ...          ...    ...            ...   \n",
       "845  2012    Salisbury    6.0            NaN   \n",
       "846  2013  Bridgewater    7.0            NaN   \n",
       "847  2012       Lisbon    NaN            NaN   \n",
       "848  2016       Goshen   15.0            NaN   \n",
       "849  2016     Scotland    8.0            NaN   \n",
       "\n",
       "                                     town_geo        lat         lng  \\\n",
       "0       Suffield, CT\\n(41.983549, -72.663124)  41.983549  -72.663124   \n",
       "1      Thomaston, CT\\n(41.674124, -73.073189)  41.674124  -73.073189   \n",
       "2        Sprague, CT\\n(41.640692, -72.066224)  41.640692  -72.066224   \n",
       "3         Monroe, CT\\n(41.331612, -73.206797)  41.331612  -73.206797   \n",
       "4       Cheshire, CT\\n(41.498834, -72.901448)  41.498834  -72.901448   \n",
       "..                                        ...        ...         ...   \n",
       "845    Salisbury, CT\\n(41.983411, -73.422268)  41.983411  -73.422268   \n",
       "846  Bridgewater, CT\\n(41.535109, -73.366386)  41.535109  -73.366386   \n",
       "847       Lisbon, CT\\n(41.614599, -71.960584)  41.614599  -71.960584   \n",
       "848       Goshen, CT\\n(41.831925, -73.225323)  41.831925  -73.225323   \n",
       "849       Scotland, CT\\n(41.6975, -72.119465)    41.6975  -72.119465   \n",
       "\n",
       "                       geometry  \n",
       "0    POINT (-72.66312 41.98355)  \n",
       "1    POINT (-73.07319 41.67412)  \n",
       "2    POINT (-72.06622 41.64069)  \n",
       "3    POINT (-73.20680 41.33161)  \n",
       "4    POINT (-72.90145 41.49883)  \n",
       "..                          ...  \n",
       "845  POINT (-73.42227 41.98341)  \n",
       "846  POINT (-73.36639 41.53511)  \n",
       "847  POINT (-71.96058 41.61460)  \n",
       "848  POINT (-73.22532 41.83192)  \n",
       "849  POINT (-72.11947 41.69750)  \n",
       "\n",
       "[850 rows x 8 columns]"
      ]
     },
     "execution_count": 17,
     "metadata": {},
     "output_type": "execute_result"
    }
   ],
   "source": [
    "opi_town_df.round(0)"
   ]
  },
  {
   "cell_type": "code",
   "execution_count": 18,
   "id": "e8db36f8",
   "metadata": {},
   "outputs": [
    {
     "data": {
      "text/html": [
       "<div>\n",
       "<style scoped>\n",
       "    .dataframe tbody tr th:only-of-type {\n",
       "        vertical-align: middle;\n",
       "    }\n",
       "\n",
       "    .dataframe tbody tr th {\n",
       "        vertical-align: top;\n",
       "    }\n",
       "\n",
       "    .dataframe thead th {\n",
       "        text-align: right;\n",
       "    }\n",
       "</style>\n",
       "<table border=\"1\" class=\"dataframe\">\n",
       "  <thead>\n",
       "    <tr style=\"text-align: right;\">\n",
       "      <th></th>\n",
       "      <th>year</th>\n",
       "      <th>town</th>\n",
       "      <th>admis</th>\n",
       "      <th>undup_clients</th>\n",
       "      <th>town_geo</th>\n",
       "      <th>lat</th>\n",
       "      <th>lng</th>\n",
       "      <th>geometry</th>\n",
       "    </tr>\n",
       "  </thead>\n",
       "  <tbody>\n",
       "    <tr>\n",
       "      <th>0</th>\n",
       "      <td>2016</td>\n",
       "      <td>Suffield</td>\n",
       "      <td>35.0</td>\n",
       "      <td>24.0</td>\n",
       "      <td>Suffield, CT\\n(41.983549, -72.663124)</td>\n",
       "      <td>41.983549</td>\n",
       "      <td>-72.663124</td>\n",
       "      <td>POINT (-72.66312 41.98355)</td>\n",
       "    </tr>\n",
       "    <tr>\n",
       "      <th>1</th>\n",
       "      <td>2014</td>\n",
       "      <td>Thomaston</td>\n",
       "      <td>51.0</td>\n",
       "      <td>34.0</td>\n",
       "      <td>Thomaston, CT\\n(41.674124, -73.073189)</td>\n",
       "      <td>41.674124</td>\n",
       "      <td>-73.073189</td>\n",
       "      <td>POINT (-73.07319 41.67412)</td>\n",
       "    </tr>\n",
       "    <tr>\n",
       "      <th>2</th>\n",
       "      <td>2013</td>\n",
       "      <td>Sprague</td>\n",
       "      <td>35.0</td>\n",
       "      <td>16.0</td>\n",
       "      <td>Sprague, CT\\n(41.640692, -72.066224)</td>\n",
       "      <td>41.640692</td>\n",
       "      <td>-72.066224</td>\n",
       "      <td>POINT (-72.06622 41.64069)</td>\n",
       "    </tr>\n",
       "    <tr>\n",
       "      <th>3</th>\n",
       "      <td>2015</td>\n",
       "      <td>Monroe</td>\n",
       "      <td>83.0</td>\n",
       "      <td>46.0</td>\n",
       "      <td>Monroe, CT\\n(41.331612, -73.206797)</td>\n",
       "      <td>41.331612</td>\n",
       "      <td>-73.206797</td>\n",
       "      <td>POINT (-73.20680 41.33161)</td>\n",
       "    </tr>\n",
       "    <tr>\n",
       "      <th>4</th>\n",
       "      <td>2016</td>\n",
       "      <td>Cheshire</td>\n",
       "      <td>85.0</td>\n",
       "      <td>50.0</td>\n",
       "      <td>Cheshire, CT\\n(41.498834, -72.901448)</td>\n",
       "      <td>41.498834</td>\n",
       "      <td>-72.901448</td>\n",
       "      <td>POINT (-72.90145 41.49883)</td>\n",
       "    </tr>\n",
       "    <tr>\n",
       "      <th>...</th>\n",
       "      <td>...</td>\n",
       "      <td>...</td>\n",
       "      <td>...</td>\n",
       "      <td>...</td>\n",
       "      <td>...</td>\n",
       "      <td>...</td>\n",
       "      <td>...</td>\n",
       "      <td>...</td>\n",
       "    </tr>\n",
       "    <tr>\n",
       "      <th>845</th>\n",
       "      <td>2012</td>\n",
       "      <td>Salisbury</td>\n",
       "      <td>6.0</td>\n",
       "      <td>NaN</td>\n",
       "      <td>Salisbury, CT\\n(41.983411, -73.422268)</td>\n",
       "      <td>41.983411</td>\n",
       "      <td>-73.422268</td>\n",
       "      <td>POINT (-73.42227 41.98341)</td>\n",
       "    </tr>\n",
       "    <tr>\n",
       "      <th>846</th>\n",
       "      <td>2013</td>\n",
       "      <td>Bridgewater</td>\n",
       "      <td>7.0</td>\n",
       "      <td>NaN</td>\n",
       "      <td>Bridgewater, CT\\n(41.535109, -73.366386)</td>\n",
       "      <td>41.535109</td>\n",
       "      <td>-73.366386</td>\n",
       "      <td>POINT (-73.36639 41.53511)</td>\n",
       "    </tr>\n",
       "    <tr>\n",
       "      <th>847</th>\n",
       "      <td>2012</td>\n",
       "      <td>Lisbon</td>\n",
       "      <td>NaN</td>\n",
       "      <td>NaN</td>\n",
       "      <td>Lisbon, CT\\n(41.614599, -71.960584)</td>\n",
       "      <td>41.614599</td>\n",
       "      <td>-71.960584</td>\n",
       "      <td>POINT (-71.96058 41.61460)</td>\n",
       "    </tr>\n",
       "    <tr>\n",
       "      <th>848</th>\n",
       "      <td>2016</td>\n",
       "      <td>Goshen</td>\n",
       "      <td>15.0</td>\n",
       "      <td>NaN</td>\n",
       "      <td>Goshen, CT\\n(41.831925, -73.225323)</td>\n",
       "      <td>41.831925</td>\n",
       "      <td>-73.225323</td>\n",
       "      <td>POINT (-73.22532 41.83192)</td>\n",
       "    </tr>\n",
       "    <tr>\n",
       "      <th>849</th>\n",
       "      <td>2016</td>\n",
       "      <td>Scotland</td>\n",
       "      <td>8.0</td>\n",
       "      <td>NaN</td>\n",
       "      <td>Scotland, CT\\n(41.6975, -72.119465)</td>\n",
       "      <td>41.6975</td>\n",
       "      <td>-72.119465</td>\n",
       "      <td>POINT (-72.11947 41.69750)</td>\n",
       "    </tr>\n",
       "  </tbody>\n",
       "</table>\n",
       "<p>850 rows × 8 columns</p>\n",
       "</div>"
      ],
      "text/plain": [
       "     year         town  admis  undup_clients  \\\n",
       "0    2016     Suffield   35.0           24.0   \n",
       "1    2014    Thomaston   51.0           34.0   \n",
       "2    2013      Sprague   35.0           16.0   \n",
       "3    2015       Monroe   83.0           46.0   \n",
       "4    2016     Cheshire   85.0           50.0   \n",
       "..    ...          ...    ...            ...   \n",
       "845  2012    Salisbury    6.0            NaN   \n",
       "846  2013  Bridgewater    7.0            NaN   \n",
       "847  2012       Lisbon    NaN            NaN   \n",
       "848  2016       Goshen   15.0            NaN   \n",
       "849  2016     Scotland    8.0            NaN   \n",
       "\n",
       "                                     town_geo        lat         lng  \\\n",
       "0       Suffield, CT\\n(41.983549, -72.663124)  41.983549  -72.663124   \n",
       "1      Thomaston, CT\\n(41.674124, -73.073189)  41.674124  -73.073189   \n",
       "2        Sprague, CT\\n(41.640692, -72.066224)  41.640692  -72.066224   \n",
       "3         Monroe, CT\\n(41.331612, -73.206797)  41.331612  -73.206797   \n",
       "4       Cheshire, CT\\n(41.498834, -72.901448)  41.498834  -72.901448   \n",
       "..                                        ...        ...         ...   \n",
       "845    Salisbury, CT\\n(41.983411, -73.422268)  41.983411  -73.422268   \n",
       "846  Bridgewater, CT\\n(41.535109, -73.366386)  41.535109  -73.366386   \n",
       "847       Lisbon, CT\\n(41.614599, -71.960584)  41.614599  -71.960584   \n",
       "848       Goshen, CT\\n(41.831925, -73.225323)  41.831925  -73.225323   \n",
       "849       Scotland, CT\\n(41.6975, -72.119465)    41.6975  -72.119465   \n",
       "\n",
       "                       geometry  \n",
       "0    POINT (-72.66312 41.98355)  \n",
       "1    POINT (-73.07319 41.67412)  \n",
       "2    POINT (-72.06622 41.64069)  \n",
       "3    POINT (-73.20680 41.33161)  \n",
       "4    POINT (-72.90145 41.49883)  \n",
       "..                          ...  \n",
       "845  POINT (-73.42227 41.98341)  \n",
       "846  POINT (-73.36639 41.53511)  \n",
       "847  POINT (-71.96058 41.61460)  \n",
       "848  POINT (-73.22532 41.83192)  \n",
       "849  POINT (-72.11947 41.69750)  \n",
       "\n",
       "[850 rows x 8 columns]"
      ]
     },
     "execution_count": 18,
     "metadata": {},
     "output_type": "execute_result"
    }
   ],
   "source": [
    "opi_town_df"
   ]
  },
  {
   "cell_type": "markdown",
   "id": "9008e9f4",
   "metadata": {},
   "source": [
    "# Data Exploration"
   ]
  },
  {
   "cell_type": "markdown",
   "id": "8338cc82",
   "metadata": {},
   "source": [
    "### Examine the distribution in the relevant columns"
   ]
  },
  {
   "cell_type": "code",
   "execution_count": 19,
   "id": "6d8c5c7b",
   "metadata": {},
   "outputs": [
    {
     "data": {
      "text/plain": [
       "5"
      ]
     },
     "execution_count": 19,
     "metadata": {},
     "output_type": "execute_result"
    }
   ],
   "source": [
    "opi_town_df['year'].nunique()"
   ]
  },
  {
   "cell_type": "code",
   "execution_count": 20,
   "id": "e9c5cbe5",
   "metadata": {},
   "outputs": [
    {
     "data": {
      "text/plain": [
       "2012"
      ]
     },
     "execution_count": 20,
     "metadata": {},
     "output_type": "execute_result"
    }
   ],
   "source": [
    "opi_town_df['year'].min()"
   ]
  },
  {
   "cell_type": "code",
   "execution_count": 21,
   "id": "0fc1157b",
   "metadata": {},
   "outputs": [
    {
     "data": {
      "text/plain": [
       "2016"
      ]
     },
     "execution_count": 21,
     "metadata": {},
     "output_type": "execute_result"
    }
   ],
   "source": [
    "opi_town_df['year'].max()"
   ]
  },
  {
   "cell_type": "markdown",
   "id": "0a44e435",
   "metadata": {},
   "source": [
    "There is data across five (5) years, from 2012-2016."
   ]
  },
  {
   "cell_type": "code",
   "execution_count": 22,
   "id": "17147df5",
   "metadata": {},
   "outputs": [
    {
     "data": {
      "text/plain": [
       "170"
      ]
     },
     "execution_count": 22,
     "metadata": {},
     "output_type": "execute_result"
    }
   ],
   "source": [
    "opi_town_df['town'].nunique()"
   ]
  },
  {
   "cell_type": "markdown",
   "id": "66f7c015",
   "metadata": {},
   "source": [
    "There is data for 170 towns in Connecticut."
   ]
  },
  {
   "cell_type": "code",
   "execution_count": 23,
   "id": "88b7fb75",
   "metadata": {
    "scrolled": true
   },
   "outputs": [],
   "source": [
    "opi_town_df = opi_town_df.sort_values([\"year\",\"town\"]).drop(['town_geo'], axis=1)\n",
    "opi_town_df = opi_town_df.drop(['geometry'], axis=1)"
   ]
  },
  {
   "cell_type": "code",
   "execution_count": 24,
   "id": "dfe46728",
   "metadata": {},
   "outputs": [],
   "source": [
    "# assign new df to file\n",
    "opi_town_df.to_csv('../data/opi_town_clean.csv', index=False)"
   ]
  },
  {
   "cell_type": "markdown",
   "id": "dd461061",
   "metadata": {},
   "source": [
    "The dataframe is now sorted by year, and then in each year, it is sorted alphabetically."
   ]
  },
  {
   "cell_type": "code",
   "execution_count": 25,
   "id": "dc9b0c18",
   "metadata": {
    "scrolled": false
   },
   "outputs": [
    {
     "data": {
      "text/plain": [
       "<AxesSubplot:>"
      ]
     },
     "execution_count": 25,
     "metadata": {},
     "output_type": "execute_result"
    },
    {
     "data": {
      "image/png": "[encoded data removed]",
      "text/plain": [
       "<Figure size 432x288 with 1 Axes>"
      ]
     },
     "metadata": {
      "needs_background": "light"
     },
     "output_type": "display_data"
    }
   ],
   "source": [
    "towns_gdf.plot()"
   ]
  },
  {
   "cell_type": "markdown",
   "id": "3cd6d0e2",
   "metadata": {},
   "source": [
    "The geodataframe is now mapped to the shape of the state of Connecticut."
   ]
  },
  {
   "cell_type": "markdown",
   "id": "ace7b7f2",
   "metadata": {},
   "source": [
    "### What observations and questions do you have after exploring the data?"
   ]
  },
  {
   "cell_type": "markdown",
   "id": "bf0d20c0",
   "metadata": {},
   "source": [
    "After exploring this data, I still believe that a temporal analysis is important. I will likely have to use multiple maps to compare the differences across the yearse, in conjuction with other types of data representation, such as line graphs. That is the best way to determine what changes have occured over time."
   ]
  },
  {
   "cell_type": "code",
   "execution_count": null,
   "id": "925a2304",
   "metadata": {},
   "outputs": [],
   "source": []
  }
 ],
 "metadata": {
  "kernelspec": {
   "display_name": "Python 3 (COMM318)",
   "language": "python",
   "name": "python3"
  },
  "language_info": {
   "codemirror_mode": {
    "name": "ipython",
    "version": 3
   },
   "file_extension": ".py",
   "mimetype": "text/x-python",
   "name": "python",
   "nbconvert_exporter": "python",
   "pygments_lexer": "ipython3",
   "version": "3.8.8"
  }
 },
 "nbformat": 4,
 "nbformat_minor": 5
}
