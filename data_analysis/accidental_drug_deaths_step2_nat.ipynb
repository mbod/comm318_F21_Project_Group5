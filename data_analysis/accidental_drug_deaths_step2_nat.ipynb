{
 "cells": [
  {
   "cell_type": "markdown",
   "id": "51926be9",
   "metadata": {},
   "source": [
    "# Accidental Drug Deaths in Connecticut: \n",
    "## Step 2 Anaylsis \n",
    "## Quetions, Steps, Code, Comments \n",
    "### Are opioid-related drug deaths increasing in CT from 2012-2020? \n",
    "\n",
    "#### The Data: https://catalog.data.gov/dataset/accidental-drug-related-deaths-2012-2018"
   ]
  },
  {
   "cell_type": "markdown",
   "id": "1f29ceca",
   "metadata": {},
   "source": [
    "# Questions: \n",
    "* How many drug-related deaths were there from 2012-2020?\n",
    "* What is the distribution of opioid deaths by city in CT?\n",
    "* Has the number of opioid-related deaths increased or decreased from 2012-2020?"
   ]
  },
  {
   "cell_type": "markdown",
   "id": "a41fd28b",
   "metadata": {},
   "source": [
    "# Steps: \n",
    "\n",
    "* Step 1: Load the data \n",
    "* Step 2: Create an opioid filter to only look at the deaths that are due to opioids\n",
    "* Step 3: Count the number of rows in the opioid filter to determine how many deaths from 2012-2020 were due to opioids \n",
    "* Step 4: Combine the opioid filter with the Residence City and use the value counts function to determine which cities have the highest opioid related deaths and which have the lowest. \n",
    "* Step 5: Crate a year column. \n",
    "* Step 6: Create a filter for each year from 2012 to 2020 to determine if the number of opioid-related deaths have incrased or decreased over the years. "
   ]
  },
  {
   "cell_type": "markdown",
   "id": "73ba096b",
   "metadata": {},
   "source": [
    "# Code: "
   ]
  },
  {
   "cell_type": "code",
   "execution_count": 1,
   "id": "24f58038",
   "metadata": {},
   "outputs": [
    {
     "data": {
      "text/html": [
       "<div>\n",
       "<style scoped>\n",
       "    .dataframe tbody tr th:only-of-type {\n",
       "        vertical-align: middle;\n",
       "    }\n",
       "\n",
       "    .dataframe tbody tr th {\n",
       "        vertical-align: top;\n",
       "    }\n",
       "\n",
       "    .dataframe thead th {\n",
       "        text-align: right;\n",
       "    }\n",
       "</style>\n",
       "<table border=\"1\" class=\"dataframe\">\n",
       "  <thead>\n",
       "    <tr style=\"text-align: right;\">\n",
       "      <th></th>\n",
       "      <th>ID</th>\n",
       "      <th>Date</th>\n",
       "      <th>Age</th>\n",
       "      <th>Sex</th>\n",
       "      <th>Race</th>\n",
       "      <th>Residence_City</th>\n",
       "      <th>Residence_County</th>\n",
       "      <th>Residence_State</th>\n",
       "      <th>Death_City</th>\n",
       "      <th>Death_County</th>\n",
       "      <th>...</th>\n",
       "      <th>Morphine_Not_Heroin</th>\n",
       "      <th>Hydromorphone</th>\n",
       "      <th>Xylazine</th>\n",
       "      <th>Other</th>\n",
       "      <th>Opiate_NOS</th>\n",
       "      <th>Any_Opioid</th>\n",
       "      <th>Manner_of_Death</th>\n",
       "      <th>DeathCityGeo</th>\n",
       "      <th>ResidenceCityGeo</th>\n",
       "      <th>InjuryCityGeo</th>\n",
       "    </tr>\n",
       "  </thead>\n",
       "  <tbody>\n",
       "    <tr>\n",
       "      <th>0</th>\n",
       "      <td>12-0187</td>\n",
       "      <td>2012-07-17</td>\n",
       "      <td>34.0</td>\n",
       "      <td>Female</td>\n",
       "      <td>White</td>\n",
       "      <td>MAHOPAC</td>\n",
       "      <td>PUTNAM</td>\n",
       "      <td>NaN</td>\n",
       "      <td>DANBURY</td>\n",
       "      <td>FAIRFIELD</td>\n",
       "      <td>...</td>\n",
       "      <td>NaN</td>\n",
       "      <td>NaN</td>\n",
       "      <td>NaN</td>\n",
       "      <td>Duster</td>\n",
       "      <td>NaN</td>\n",
       "      <td>NaN</td>\n",
       "      <td>Accident</td>\n",
       "      <td>DANBURY, CT\\n(41.393666, -73.451539)</td>\n",
       "      <td>NaN</td>\n",
       "      <td>CT\\n(41.575155, -72.738288)</td>\n",
       "    </tr>\n",
       "    <tr>\n",
       "      <th>1</th>\n",
       "      <td>12-0258</td>\n",
       "      <td>2012-10-01</td>\n",
       "      <td>51.0</td>\n",
       "      <td>Male</td>\n",
       "      <td>White</td>\n",
       "      <td>PORTLAND</td>\n",
       "      <td>MIDDLESEX</td>\n",
       "      <td>NaN</td>\n",
       "      <td>PORTLAND</td>\n",
       "      <td>MIDDLESEX</td>\n",
       "      <td>...</td>\n",
       "      <td>NaN</td>\n",
       "      <td>NaN</td>\n",
       "      <td>NaN</td>\n",
       "      <td>NaN</td>\n",
       "      <td>NaN</td>\n",
       "      <td>NaN</td>\n",
       "      <td>Accident</td>\n",
       "      <td>PORTLAND, CT\\n(41.581345, -72.634112)</td>\n",
       "      <td>PORTLAND, CT\\n(41.581345, -72.634112)</td>\n",
       "      <td>CT\\n(41.575155, -72.738288)</td>\n",
       "    </tr>\n",
       "    <tr>\n",
       "      <th>2</th>\n",
       "      <td>13-0146</td>\n",
       "      <td>2013-04-28</td>\n",
       "      <td>28.0</td>\n",
       "      <td>Male</td>\n",
       "      <td>White</td>\n",
       "      <td>NaN</td>\n",
       "      <td>NaN</td>\n",
       "      <td>NaN</td>\n",
       "      <td>HARTFORD</td>\n",
       "      <td>HARTFORD</td>\n",
       "      <td>...</td>\n",
       "      <td>NaN</td>\n",
       "      <td>NaN</td>\n",
       "      <td>NaN</td>\n",
       "      <td>NaN</td>\n",
       "      <td>NaN</td>\n",
       "      <td>NaN</td>\n",
       "      <td>Accident</td>\n",
       "      <td>HARTFORD, CT\\n(41.765775, -72.673356)</td>\n",
       "      <td>CT\\n(41.575155, -72.738288)</td>\n",
       "      <td>CT\\n(41.575155, -72.738288)</td>\n",
       "    </tr>\n",
       "    <tr>\n",
       "      <th>3</th>\n",
       "      <td>14-0150</td>\n",
       "      <td>2014-04-06</td>\n",
       "      <td>46.0</td>\n",
       "      <td>Male</td>\n",
       "      <td>White</td>\n",
       "      <td>WATERBURY</td>\n",
       "      <td>NaN</td>\n",
       "      <td>NaN</td>\n",
       "      <td>TORRINGTON</td>\n",
       "      <td>LITCHFIELD</td>\n",
       "      <td>...</td>\n",
       "      <td>NaN</td>\n",
       "      <td>NaN</td>\n",
       "      <td>NaN</td>\n",
       "      <td>NaN</td>\n",
       "      <td>NaN</td>\n",
       "      <td>NaN</td>\n",
       "      <td>Accident</td>\n",
       "      <td>TORRINGTON, CT\\n(41.812186, -73.101552)</td>\n",
       "      <td>WATERBURY, CT\\n(41.554261, -73.043069)</td>\n",
       "      <td>CT\\n(41.575155, -72.738288)</td>\n",
       "    </tr>\n",
       "    <tr>\n",
       "      <th>4</th>\n",
       "      <td>14-0183</td>\n",
       "      <td>2014-04-27</td>\n",
       "      <td>52.0</td>\n",
       "      <td>Male</td>\n",
       "      <td>White</td>\n",
       "      <td>NEW LONDON</td>\n",
       "      <td>NaN</td>\n",
       "      <td>NaN</td>\n",
       "      <td>NEW LONDON</td>\n",
       "      <td>NEW LONDON</td>\n",
       "      <td>...</td>\n",
       "      <td>NaN</td>\n",
       "      <td>NaN</td>\n",
       "      <td>NaN</td>\n",
       "      <td>NaN</td>\n",
       "      <td>NaN</td>\n",
       "      <td>NaN</td>\n",
       "      <td>Accident</td>\n",
       "      <td>NEW LONDON, CT\\n(41.355167, -72.099561)</td>\n",
       "      <td>NEW LONDON, CT\\n(41.355167, -72.099561)</td>\n",
       "      <td>CT\\n(41.575155, -72.738288)</td>\n",
       "    </tr>\n",
       "    <tr>\n",
       "      <th>...</th>\n",
       "      <td>...</td>\n",
       "      <td>...</td>\n",
       "      <td>...</td>\n",
       "      <td>...</td>\n",
       "      <td>...</td>\n",
       "      <td>...</td>\n",
       "      <td>...</td>\n",
       "      <td>...</td>\n",
       "      <td>...</td>\n",
       "      <td>...</td>\n",
       "      <td>...</td>\n",
       "      <td>...</td>\n",
       "      <td>...</td>\n",
       "      <td>...</td>\n",
       "      <td>...</td>\n",
       "      <td>...</td>\n",
       "      <td>...</td>\n",
       "      <td>...</td>\n",
       "      <td>...</td>\n",
       "      <td>...</td>\n",
       "      <td>...</td>\n",
       "    </tr>\n",
       "    <tr>\n",
       "      <th>7674</th>\n",
       "      <td>14-0128</td>\n",
       "      <td>2014-03-20</td>\n",
       "      <td>25.0</td>\n",
       "      <td>Male</td>\n",
       "      <td>White</td>\n",
       "      <td>MILFORD</td>\n",
       "      <td>NaN</td>\n",
       "      <td>NaN</td>\n",
       "      <td>WETHERSFIELD</td>\n",
       "      <td>NaN</td>\n",
       "      <td>...</td>\n",
       "      <td>NaN</td>\n",
       "      <td>NaN</td>\n",
       "      <td>NaN</td>\n",
       "      <td>NaN</td>\n",
       "      <td>NaN</td>\n",
       "      <td>NaN</td>\n",
       "      <td>Accident</td>\n",
       "      <td>WETHERSFIELD, CT\\n(41.712487, -72.663607)</td>\n",
       "      <td>MILFORD, CT\\n(41.224276, -73.057564)</td>\n",
       "      <td>CT\\n(41.575155, -72.738288)</td>\n",
       "    </tr>\n",
       "    <tr>\n",
       "      <th>7675</th>\n",
       "      <td>20-1217</td>\n",
       "      <td>2020-11-19</td>\n",
       "      <td>62.0</td>\n",
       "      <td>Female</td>\n",
       "      <td>White</td>\n",
       "      <td>STAMFORD</td>\n",
       "      <td>FAIRFIELD</td>\n",
       "      <td>CT</td>\n",
       "      <td>STAMFORD</td>\n",
       "      <td>FAIRFIELD</td>\n",
       "      <td>...</td>\n",
       "      <td>NaN</td>\n",
       "      <td>NaN</td>\n",
       "      <td>NaN</td>\n",
       "      <td>NaN</td>\n",
       "      <td>NaN</td>\n",
       "      <td>Y</td>\n",
       "      <td>Accident</td>\n",
       "      <td>Stamford, CT\\n(41.051924, -73.539475)</td>\n",
       "      <td>STAMFORD, CT\\n(41.051924, -73.539475)</td>\n",
       "      <td>STAMFORD, CT\\n(41.051924, -73.539475)</td>\n",
       "    </tr>\n",
       "    <tr>\n",
       "      <th>7676</th>\n",
       "      <td>20-1138</td>\n",
       "      <td>2020-10-31</td>\n",
       "      <td>50.0</td>\n",
       "      <td>Female</td>\n",
       "      <td>White</td>\n",
       "      <td>NEW BRITAIN</td>\n",
       "      <td>HARTFORD</td>\n",
       "      <td>CT</td>\n",
       "      <td>NEW BRITAIN</td>\n",
       "      <td>HARTFORD</td>\n",
       "      <td>...</td>\n",
       "      <td>NaN</td>\n",
       "      <td>NaN</td>\n",
       "      <td>Y</td>\n",
       "      <td>NaN</td>\n",
       "      <td>NaN</td>\n",
       "      <td>Y</td>\n",
       "      <td>Accident</td>\n",
       "      <td>New Britain, CT\\n(41.667528, -72.783437)</td>\n",
       "      <td>NEW BRITAIN, CT\\n(41.667528, -72.783437)</td>\n",
       "      <td>NEW BRITAIN, CT\\n(41.667528, -72.783437)</td>\n",
       "    </tr>\n",
       "    <tr>\n",
       "      <th>7677</th>\n",
       "      <td>16-0640</td>\n",
       "      <td>2016-09-17</td>\n",
       "      <td>36.0</td>\n",
       "      <td>Male</td>\n",
       "      <td>White</td>\n",
       "      <td>SHELTON</td>\n",
       "      <td>FAIRFIELD</td>\n",
       "      <td>CT</td>\n",
       "      <td>SHELTON</td>\n",
       "      <td>NaN</td>\n",
       "      <td>...</td>\n",
       "      <td>NaN</td>\n",
       "      <td>NaN</td>\n",
       "      <td>NaN</td>\n",
       "      <td>NaN</td>\n",
       "      <td>NaN</td>\n",
       "      <td>Y</td>\n",
       "      <td>Accident</td>\n",
       "      <td>SHELTON, CT\\n(41.316843, -73.092968)</td>\n",
       "      <td>SHELTON, CT\\n(41.316843, -73.092968)</td>\n",
       "      <td>SHELTON, CT\\n(41.316843, -73.092968)</td>\n",
       "    </tr>\n",
       "    <tr>\n",
       "      <th>7678</th>\n",
       "      <td>19-0963</td>\n",
       "      <td>2019-10-25</td>\n",
       "      <td>33.0</td>\n",
       "      <td>Male</td>\n",
       "      <td>White</td>\n",
       "      <td>NEW HAVEN</td>\n",
       "      <td>NEW HAVEN</td>\n",
       "      <td>CT</td>\n",
       "      <td>NEW HAVEN</td>\n",
       "      <td>NEW HAVEN</td>\n",
       "      <td>...</td>\n",
       "      <td>NaN</td>\n",
       "      <td>NaN</td>\n",
       "      <td>NaN</td>\n",
       "      <td>NaN</td>\n",
       "      <td>NaN</td>\n",
       "      <td>Y</td>\n",
       "      <td>Accident</td>\n",
       "      <td>New Haven, CT\\n(41.308252, -72.924161)</td>\n",
       "      <td>NEW HAVEN, CT\\n(41.308252, -72.924161)</td>\n",
       "      <td>NEW HAVEN, CT\\n(41.308252, -72.924161)</td>\n",
       "    </tr>\n",
       "  </tbody>\n",
       "</table>\n",
       "<p>7679 rows × 40 columns</p>\n",
       "</div>"
      ],
      "text/plain": [
       "           ID        Date   Age     Sex   Race Residence_City  \\\n",
       "0     12-0187  2012-07-17  34.0  Female  White        MAHOPAC   \n",
       "1     12-0258  2012-10-01  51.0    Male  White       PORTLAND   \n",
       "2     13-0146  2013-04-28  28.0    Male  White            NaN   \n",
       "3     14-0150  2014-04-06  46.0    Male  White      WATERBURY   \n",
       "4     14-0183  2014-04-27  52.0    Male  White     NEW LONDON   \n",
       "...       ...         ...   ...     ...    ...            ...   \n",
       "7674  14-0128  2014-03-20  25.0    Male  White        MILFORD   \n",
       "7675  20-1217  2020-11-19  62.0  Female  White       STAMFORD   \n",
       "7676  20-1138  2020-10-31  50.0  Female  White    NEW BRITAIN   \n",
       "7677  16-0640  2016-09-17  36.0    Male  White        SHELTON   \n",
       "7678  19-0963  2019-10-25  33.0    Male  White      NEW HAVEN   \n",
       "\n",
       "     Residence_County Residence_State    Death_City Death_County  ...  \\\n",
       "0              PUTNAM             NaN       DANBURY    FAIRFIELD  ...   \n",
       "1           MIDDLESEX             NaN      PORTLAND    MIDDLESEX  ...   \n",
       "2                 NaN             NaN      HARTFORD     HARTFORD  ...   \n",
       "3                 NaN             NaN    TORRINGTON   LITCHFIELD  ...   \n",
       "4                 NaN             NaN    NEW LONDON   NEW LONDON  ...   \n",
       "...               ...             ...           ...          ...  ...   \n",
       "7674              NaN             NaN  WETHERSFIELD          NaN  ...   \n",
       "7675        FAIRFIELD              CT      STAMFORD    FAIRFIELD  ...   \n",
       "7676         HARTFORD              CT   NEW BRITAIN     HARTFORD  ...   \n",
       "7677        FAIRFIELD              CT       SHELTON          NaN  ...   \n",
       "7678        NEW HAVEN              CT     NEW HAVEN    NEW HAVEN  ...   \n",
       "\n",
       "     Morphine_Not_Heroin Hydromorphone Xylazine   Other Opiate_NOS Any_Opioid  \\\n",
       "0                    NaN           NaN      NaN  Duster        NaN        NaN   \n",
       "1                    NaN           NaN      NaN     NaN        NaN        NaN   \n",
       "2                    NaN           NaN      NaN     NaN        NaN        NaN   \n",
       "3                    NaN           NaN      NaN     NaN        NaN        NaN   \n",
       "4                    NaN           NaN      NaN     NaN        NaN        NaN   \n",
       "...                  ...           ...      ...     ...        ...        ...   \n",
       "7674                 NaN           NaN      NaN     NaN        NaN        NaN   \n",
       "7675                 NaN           NaN      NaN     NaN        NaN          Y   \n",
       "7676                 NaN           NaN        Y     NaN        NaN          Y   \n",
       "7677                 NaN           NaN      NaN     NaN        NaN          Y   \n",
       "7678                 NaN           NaN      NaN     NaN        NaN          Y   \n",
       "\n",
       "     Manner_of_Death                               DeathCityGeo  \\\n",
       "0           Accident       DANBURY, CT\\n(41.393666, -73.451539)   \n",
       "1           Accident      PORTLAND, CT\\n(41.581345, -72.634112)   \n",
       "2           Accident      HARTFORD, CT\\n(41.765775, -72.673356)   \n",
       "3           Accident    TORRINGTON, CT\\n(41.812186, -73.101552)   \n",
       "4           Accident    NEW LONDON, CT\\n(41.355167, -72.099561)   \n",
       "...              ...                                        ...   \n",
       "7674        Accident  WETHERSFIELD, CT\\n(41.712487, -72.663607)   \n",
       "7675        Accident      Stamford, CT\\n(41.051924, -73.539475)   \n",
       "7676        Accident   New Britain, CT\\n(41.667528, -72.783437)   \n",
       "7677        Accident       SHELTON, CT\\n(41.316843, -73.092968)   \n",
       "7678        Accident     New Haven, CT\\n(41.308252, -72.924161)   \n",
       "\n",
       "                              ResidenceCityGeo  \\\n",
       "0                                          NaN   \n",
       "1        PORTLAND, CT\\n(41.581345, -72.634112)   \n",
       "2                  CT\\n(41.575155, -72.738288)   \n",
       "3       WATERBURY, CT\\n(41.554261, -73.043069)   \n",
       "4      NEW LONDON, CT\\n(41.355167, -72.099561)   \n",
       "...                                        ...   \n",
       "7674      MILFORD, CT\\n(41.224276, -73.057564)   \n",
       "7675     STAMFORD, CT\\n(41.051924, -73.539475)   \n",
       "7676  NEW BRITAIN, CT\\n(41.667528, -72.783437)   \n",
       "7677      SHELTON, CT\\n(41.316843, -73.092968)   \n",
       "7678    NEW HAVEN, CT\\n(41.308252, -72.924161)   \n",
       "\n",
       "                                 InjuryCityGeo  \n",
       "0                  CT\\n(41.575155, -72.738288)  \n",
       "1                  CT\\n(41.575155, -72.738288)  \n",
       "2                  CT\\n(41.575155, -72.738288)  \n",
       "3                  CT\\n(41.575155, -72.738288)  \n",
       "4                  CT\\n(41.575155, -72.738288)  \n",
       "...                                        ...  \n",
       "7674               CT\\n(41.575155, -72.738288)  \n",
       "7675     STAMFORD, CT\\n(41.051924, -73.539475)  \n",
       "7676  NEW BRITAIN, CT\\n(41.667528, -72.783437)  \n",
       "7677      SHELTON, CT\\n(41.316843, -73.092968)  \n",
       "7678    NEW HAVEN, CT\\n(41.308252, -72.924161)  \n",
       "\n",
       "[7679 rows x 40 columns]"
      ]
     },
     "execution_count": 1,
     "metadata": {},
     "output_type": "execute_result"
    }
   ],
   "source": [
    "# Step 1: Load the Data\n",
    "import warnings\n",
    "warnings.simplefilter('ignore')\n",
    "import matplotlib.pyplot as plt\n",
    "import pandas as pd\n",
    "import datetime\n",
    "\n",
    "accidental_drug_deaths_df = pd.read_csv('../data/accidental_drug_deaths_CT_clean.csv')\n",
    "accidental_drug_deaths_df"
   ]
  },
  {
   "cell_type": "code",
   "execution_count": 2,
   "id": "5e382b9e",
   "metadata": {},
   "outputs": [],
   "source": [
    "#Step 2: Create an opioid filter\n",
    "# opioid_filter = accidental_drug_deaths_df['Any_Opioid'] == 'Y'\n",
    "# accidental_drug_deaths_df[opioid_filter]"
   ]
  },
  {
   "cell_type": "code",
   "execution_count": 3,
   "id": "37cdf858",
   "metadata": {},
   "outputs": [],
   "source": [
    "# Step 2: Create an opioid filter \n",
    "# Note: Using the 'Any_Opioid' filter did not work since the data was not updated in this column and there was a lot of data missing. \n",
    "# Therefore, I will create my own 'all_opioid' column to include all of the drugs that are considered opioids. \n",
    "# Now I will create filters for all of the different opioids in this data set\n",
    "heroin_filter = accidental_drug_deaths_df['Heroin'] == 'Y'\n",
    "fetanyl_filter = accidental_drug_deaths_df['Fentanyl'] == 'Y'\n",
    "fentanyl_analogue_filter = accidental_drug_deaths_df['Fentanyl_Analogue'] == 'Y'\n",
    "oxycodone_filter = accidental_drug_deaths_df['Oxycodone'] == 'Y'\n",
    "oxymorphone_filter = accidental_drug_deaths_df['Oxymorphone'] == 'Y'\n",
    "hydrocodone_filter = accidental_drug_deaths_df['Hydrocodone'] == 'Y'\n",
    "morphine_filter = accidental_drug_deaths_df['Morphine_Not_Heroin'] == 'Y'\n",
    "hydromorphone_filter = accidental_drug_deaths_df['Hydromorphone'] == 'Y'\n",
    "opiate_filter = accidental_drug_deaths_df['Opiate_NOS'] == 'Y'"
   ]
  },
  {
   "cell_type": "code",
   "execution_count": 11,
   "id": "11690f40",
   "metadata": {},
   "outputs": [],
   "source": [
    "# Now I will add a column that incorporates all of these filters\n",
    "\n",
    "all_opioids_filter = heroin_filter | fetanyl_filter | fentanyl_analogue_filter | oxycodone_filter | oxymorphone_filter | hydrocodone_filter | morphine_filter | hydromorphone_filter | opiate_filter\n",
    "all_opioids_filter = accidental_drug_deaths_df['all_opioids'] "
   ]
  },
  {
   "cell_type": "code",
   "execution_count": 14,
   "id": "b1b8f573",
   "metadata": {},
   "outputs": [
    {
     "ename": "NameError",
     "evalue": "name 'all_opioid_filter' is not defined",
     "output_type": "error",
     "traceback": [
      "\u001b[0;31m---------------------------------------------------------------------------\u001b[0m",
      "\u001b[0;31mNameError\u001b[0m                                 Traceback (most recent call last)",
      "\u001b[0;32m/tmp/ipykernel_2475630/3385406847.py\u001b[0m in \u001b[0;36m<module>\u001b[0;34m\u001b[0m\n\u001b[1;32m      1\u001b[0m \u001b[0;31m# Now I will create a new data frame that contains the new all_opioids column.\u001b[0m\u001b[0;34m\u001b[0m\u001b[0;34m\u001b[0m\u001b[0;34m\u001b[0m\u001b[0m\n\u001b[0;32m----> 2\u001b[0;31m \u001b[0maccidental_opioid_deaths_df\u001b[0m \u001b[0;34m=\u001b[0m \u001b[0maccidental_drug_deaths_df\u001b[0m\u001b[0;34m[\u001b[0m\u001b[0mall_opioid_filter\u001b[0m\u001b[0;34m]\u001b[0m\u001b[0;34m\u001b[0m\u001b[0;34m\u001b[0m\u001b[0m\n\u001b[0m",
      "\u001b[0;31mNameError\u001b[0m: name 'all_opioid_filter' is not defined"
     ]
    }
   ],
   "source": [
    "# Now I will create a new data frame that contains the new all_opioids column. \n",
    "accidental_opioid_deaths_df = accidental_drug_deaths_df[all_opioid_filter]"
   ]
  },
  {
   "cell_type": "code",
   "execution_count": 15,
   "id": "2f8bd240",
   "metadata": {},
   "outputs": [
    {
     "ename": "NameError",
     "evalue": "name 'accidental_opioid_deaths_df' is not defined",
     "output_type": "error",
     "traceback": [
      "\u001b[0;31m---------------------------------------------------------------------------\u001b[0m",
      "\u001b[0;31mNameError\u001b[0m                                 Traceback (most recent call last)",
      "\u001b[0;32m/tmp/ipykernel_2475630/2824540755.py\u001b[0m in \u001b[0;36m<module>\u001b[0;34m\u001b[0m\n\u001b[0;32m----> 1\u001b[0;31m \u001b[0maccidental_opioid_deaths_df\u001b[0m\u001b[0;34m\u001b[0m\u001b[0;34m\u001b[0m\u001b[0m\n\u001b[0m",
      "\u001b[0;31mNameError\u001b[0m: name 'accidental_opioid_deaths_df' is not defined"
     ]
    }
   ],
   "source": [
    "accidental_opioid_deaths_df"
   ]
  },
  {
   "cell_type": "markdown",
   "id": "8acc8394",
   "metadata": {},
   "source": [
    "### Step 3: Count the number of rows"
   ]
  },
  {
   "cell_type": "markdown",
   "id": "827c596d",
   "metadata": {},
   "source": [
    "* Since there are 4860 rows in the opioid filtered dataframe, which only contains the rows of people who died via an opioid, and there are a total of 7679 in the bigger dataframe, this means that over half of the overdoses from January 1, 2012 - December 31, 2020 were due to opioids."
   ]
  },
  {
   "cell_type": "markdown",
   "id": "5e870a8e",
   "metadata": {},
   "source": [
    "<div class=\"alert alert-warning\">\n",
    "\n",
    "* Make a subset using the filter for subsequent steps\n",
    "\n",
    "</div>"
   ]
  },
  {
   "cell_type": "code",
   "execution_count": null,
   "id": "40f81cee",
   "metadata": {},
   "outputs": [],
   "source": [
    "# accidental_opioid_deaths_df = accidental_drug_deaths_df[opioid_filter]"
   ]
  },
  {
   "cell_type": "code",
   "execution_count": null,
   "id": "7528da6d",
   "metadata": {
    "scrolled": true
   },
   "outputs": [],
   "source": [
    "# Step 4: Distribution of opioid deaths by city\n",
    "accidental_opioid_deaths_df['Residence_City'].value_counts().head(20)"
   ]
  },
  {
   "cell_type": "code",
   "execution_count": null,
   "id": "b4d3c089",
   "metadata": {},
   "outputs": [],
   "source": [
    "# Step 5: Create a year column\n",
    "\n",
    "#Change the Date column from strings to dates \n",
    "accidental_opioid_deaths_df['Date'] = pd.to_datetime(accidental_opioid_deaths_df['Date'])\n",
    "\n",
    "#Add a column for year \n",
    "accidental_opioid_deaths_df['year'] = accidental_opioid_deaths_df[opioid_filter].Date.dt.year\n",
    "\n",
    "accidental_opioid_deaths_df"
   ]
  },
  {
   "cell_type": "code",
   "execution_count": null,
   "id": "2184393b",
   "metadata": {},
   "outputs": [],
   "source": [
    "# distribution by year\n",
    "accidental_opioid_deaths_df.groupby('year').size()"
   ]
  },
  {
   "cell_type": "markdown",
   "id": "906cf65b",
   "metadata": {},
   "source": [
    "### Comments: \n",
    "* It looks like a lot of years are missing data in the \"any opioid\" column. Therefore, I am going to make another column which accounts to all the different types of opioids. "
   ]
  },
  {
   "cell_type": "code",
   "execution_count": null,
   "id": "4a8fa4b2",
   "metadata": {
    "scrolled": true
   },
   "outputs": [],
   "source": [
    "accidental_drug_deaths_df.columns"
   ]
  },
  {
   "cell_type": "code",
   "execution_count": null,
   "id": "53c99e09",
   "metadata": {},
   "outputs": [],
   "source": []
  },
  {
   "cell_type": "markdown",
   "id": "7e1b8c12",
   "metadata": {},
   "source": [
    "Next we can look at the percent change from year to year. "
   ]
  },
  {
   "cell_type": "code",
   "execution_count": null,
   "id": "d17e57fb",
   "metadata": {},
   "outputs": [],
   "source": [
    "# clearly increasing\n",
    "\n",
    "# you can quantify the rate year by year with the pct_change function\n",
    "# so 2016 is a 29.4% increase over 2015\n",
    "\n",
    "accidental_drug_deaths_df.groupby('year').size().pct_change()"
   ]
  },
  {
   "cell_type": "markdown",
   "id": "d1068b94",
   "metadata": {},
   "source": [
    "From the above cell, we can see there is an increase of between 11% to 18% from 2018-2020. "
   ]
  },
  {
   "cell_type": "markdown",
   "id": "ef4920e7",
   "metadata": {},
   "source": [
    "<div class=\"alert alert-warning\">\n",
    "\n",
    "* What happened in 2017? Are those data missing?\n",
    "\n",
    "</div>"
   ]
  },
  {
   "cell_type": "markdown",
   "id": "01b6bd8e",
   "metadata": {},
   "source": [
    "* Something strange going on? Seems like no opioid related deaths in a number of years?"
   ]
  },
  {
   "cell_type": "code",
   "execution_count": null,
   "id": "8442e6ea",
   "metadata": {
    "scrolled": false
   },
   "outputs": [],
   "source": [
    "accidental_drug_deaths_df[opioid_filter]['Date'].str[:4].value_counts()"
   ]
  },
  {
   "cell_type": "markdown",
   "id": "0ee6ddd0",
   "metadata": {},
   "source": [
    "* Might have to look at specific drug columns as maybe the `Any_Opioid` column isn't consistent"
   ]
  },
  {
   "cell_type": "code",
   "execution_count": null,
   "id": "dddca8af",
   "metadata": {},
   "outputs": [],
   "source": [
    "accidental_drug_deaths_df['Date'].str[:4].value_counts()"
   ]
  },
  {
   "cell_type": "markdown",
   "id": "ad77c306",
   "metadata": {},
   "source": [
    "# Answer"
   ]
  },
  {
   "cell_type": "markdown",
   "id": "50a4c6a1",
   "metadata": {},
   "source": [
    "From the data that I have analyzed so far, it is clear that the amount of opioid-related deaths have increased over the past decade. Hartforn, Waterbury, Bridgeport, and New Haven report the most amount of opioid-related deaths in CT. \n"
   ]
  },
  {
   "cell_type": "markdown",
   "id": "4eced77e",
   "metadata": {},
   "source": [
    "# Interpretation/Observation"
   ]
  },
  {
   "cell_type": "markdown",
   "id": "9e286934",
   "metadata": {},
   "source": [
    " I still need some help making a column that looks at all of the opioids since the 'any_opioid' column in the dataset does not seem to have all of the data. "
   ]
  },
  {
   "cell_type": "markdown",
   "id": "93b177b2",
   "metadata": {},
   "source": [
    "Overall, I am not surprised that the amount of opioid deaths have increased. However, considering our other data set that shows that the amount of opioid prescriptions is decreasing, this is an interesting result. "
   ]
  },
  {
   "cell_type": "code",
   "execution_count": null,
   "id": "263151d3",
   "metadata": {},
   "outputs": [],
   "source": []
  }
 ],
 "metadata": {
  "kernelspec": {
   "display_name": "Python 3 (COMM318)",
   "language": "python",
   "name": "python3"
  },
  "language_info": {
   "codemirror_mode": {
    "name": "ipython",
    "version": 3
   },
   "file_extension": ".py",
   "mimetype": "text/x-python",
   "name": "python",
   "nbconvert_exporter": "python",
   "pygments_lexer": "ipython3",
   "version": "3.8.8"
  }
 },
 "nbformat": 4,
 "nbformat_minor": 5
}
