{
 "cells": [
  {
   "cell_type": "markdown",
   "id": "a69df6b9",
   "metadata": {},
   "source": [
    "# CT Opioid Rehab Admissions Analysis\n",
    "### This notebook investigates the trends regarding opioid rehab admissions in CT from 2012-2016. It explores both temporal & geographical trends.\n",
    "#### By Ben Glicksman\n",
    "\n",
    "------------"
   ]
  },
  {
   "cell_type": "markdown",
   "id": "c2de4361",
   "metadata": {},
   "source": [
    "### 1) Questions: \n",
    "*  What changes have occured in opioid rehab admission rates in CT from 2012-2016?\n",
    "*  Which locations/towns/places in CT have higher opioid admissions? Is this related to accidental drug deaths?\n",
    "\n",
    "------------"
   ]
  },
  {
   "cell_type": "markdown",
   "id": "890b7d7b",
   "metadata": {},
   "source": [
    "### 2) Steps: \n",
    "1. Load data\n",
    "2. Use filters to break down the admissions data by year\n",
    "3. Graph results to compare trends\n",
    "4. Use GeoPandas to separate the data by towns\n",
    "5. Check to see if averages range between different towns/counties\n",
    "6. (Maybe) See if certain economic/social patterns correlate to admissions trends\n",
    "\n",
    "------------"
   ]
  },
  {
   "cell_type": "markdown",
   "id": "83fd4630",
   "metadata": {},
   "source": [
    "### 3) Code:"
   ]
  },
  {
   "cell_type": "code",
   "execution_count": 1,
   "id": "baf1bf31",
   "metadata": {},
   "outputs": [],
   "source": [
    "# STEP 1:\n",
    "\n",
    "# import programs\n",
    "import warnings\n",
    "warnings.simplefilter('ignore')\n",
    "import matplotlib.pyplot as plt\n",
    "import pandas as pd\n",
    "import datetime\n",
    "\n",
    "import geopandas as gpd\n",
    "from shapely import wkt"
   ]
  },
  {
   "cell_type": "code",
   "execution_count": 2,
   "id": "564a9a80",
   "metadata": {},
   "outputs": [
    {
     "data": {
      "text/html": [
       "<div>\n",
       "<style scoped>\n",
       "    .dataframe tbody tr th:only-of-type {\n",
       "        vertical-align: middle;\n",
       "    }\n",
       "\n",
       "    .dataframe tbody tr th {\n",
       "        vertical-align: top;\n",
       "    }\n",
       "\n",
       "    .dataframe thead th {\n",
       "        text-align: right;\n",
       "    }\n",
       "</style>\n",
       "<table border=\"1\" class=\"dataframe\">\n",
       "  <thead>\n",
       "    <tr style=\"text-align: right;\">\n",
       "      <th></th>\n",
       "      <th>year</th>\n",
       "      <th>town</th>\n",
       "      <th>admis</th>\n",
       "      <th>undup_clients</th>\n",
       "      <th>lat</th>\n",
       "      <th>lng</th>\n",
       "    </tr>\n",
       "  </thead>\n",
       "  <tbody>\n",
       "    <tr>\n",
       "      <th>0</th>\n",
       "      <td>2012</td>\n",
       "      <td>Andover</td>\n",
       "      <td>NaN</td>\n",
       "      <td>NaN</td>\n",
       "      <td>41.728789</td>\n",
       "      <td>-72.370309</td>\n",
       "    </tr>\n",
       "    <tr>\n",
       "      <th>1</th>\n",
       "      <td>2012</td>\n",
       "      <td>Ansonia</td>\n",
       "      <td>134.0</td>\n",
       "      <td>85.0</td>\n",
       "      <td>41.341980</td>\n",
       "      <td>-73.078296</td>\n",
       "    </tr>\n",
       "    <tr>\n",
       "      <th>2</th>\n",
       "      <td>2012</td>\n",
       "      <td>Ashford</td>\n",
       "      <td>20.0</td>\n",
       "      <td>13.0</td>\n",
       "      <td>41.871915</td>\n",
       "      <td>-72.124128</td>\n",
       "    </tr>\n",
       "    <tr>\n",
       "      <th>3</th>\n",
       "      <td>2012</td>\n",
       "      <td>Avon</td>\n",
       "      <td>8.0</td>\n",
       "      <td>6.0</td>\n",
       "      <td>41.809641</td>\n",
       "      <td>-72.830547</td>\n",
       "    </tr>\n",
       "    <tr>\n",
       "      <th>4</th>\n",
       "      <td>2012</td>\n",
       "      <td>Barkhamsted</td>\n",
       "      <td>18.0</td>\n",
       "      <td>10.0</td>\n",
       "      <td>41.927066</td>\n",
       "      <td>-72.911918</td>\n",
       "    </tr>\n",
       "    <tr>\n",
       "      <th>...</th>\n",
       "      <td>...</td>\n",
       "      <td>...</td>\n",
       "      <td>...</td>\n",
       "      <td>...</td>\n",
       "      <td>...</td>\n",
       "      <td>...</td>\n",
       "    </tr>\n",
       "    <tr>\n",
       "      <th>845</th>\n",
       "      <td>2016</td>\n",
       "      <td>Windsor Locks</td>\n",
       "      <td>70.0</td>\n",
       "      <td>46.0</td>\n",
       "      <td>41.924953</td>\n",
       "      <td>-72.627177</td>\n",
       "    </tr>\n",
       "    <tr>\n",
       "      <th>846</th>\n",
       "      <td>2016</td>\n",
       "      <td>Wolcott</td>\n",
       "      <td>141.0</td>\n",
       "      <td>87.0</td>\n",
       "      <td>41.601588</td>\n",
       "      <td>-72.986414</td>\n",
       "    </tr>\n",
       "    <tr>\n",
       "      <th>847</th>\n",
       "      <td>2016</td>\n",
       "      <td>Woodbridge</td>\n",
       "      <td>15.0</td>\n",
       "      <td>10.0</td>\n",
       "      <td>41.352933</td>\n",
       "      <td>-73.014356</td>\n",
       "    </tr>\n",
       "    <tr>\n",
       "      <th>848</th>\n",
       "      <td>2016</td>\n",
       "      <td>Woodbury</td>\n",
       "      <td>32.0</td>\n",
       "      <td>21.0</td>\n",
       "      <td>41.545058</td>\n",
       "      <td>-73.208654</td>\n",
       "    </tr>\n",
       "    <tr>\n",
       "      <th>849</th>\n",
       "      <td>2016</td>\n",
       "      <td>Woodstock</td>\n",
       "      <td>35.0</td>\n",
       "      <td>17.0</td>\n",
       "      <td>41.950652</td>\n",
       "      <td>-71.977285</td>\n",
       "    </tr>\n",
       "  </tbody>\n",
       "</table>\n",
       "<p>850 rows × 6 columns</p>\n",
       "</div>"
      ],
      "text/plain": [
       "     year           town  admis  undup_clients        lat        lng\n",
       "0    2012        Andover    NaN            NaN  41.728789 -72.370309\n",
       "1    2012        Ansonia  134.0           85.0  41.341980 -73.078296\n",
       "2    2012        Ashford   20.0           13.0  41.871915 -72.124128\n",
       "3    2012           Avon    8.0            6.0  41.809641 -72.830547\n",
       "4    2012    Barkhamsted   18.0           10.0  41.927066 -72.911918\n",
       "..    ...            ...    ...            ...        ...        ...\n",
       "845  2016  Windsor Locks   70.0           46.0  41.924953 -72.627177\n",
       "846  2016        Wolcott  141.0           87.0  41.601588 -72.986414\n",
       "847  2016     Woodbridge   15.0           10.0  41.352933 -73.014356\n",
       "848  2016       Woodbury   32.0           21.0  41.545058 -73.208654\n",
       "849  2016      Woodstock   35.0           17.0  41.950652 -71.977285\n",
       "\n",
       "[850 rows x 6 columns]"
      ]
     },
     "execution_count": 2,
     "metadata": {},
     "output_type": "execute_result"
    }
   ],
   "source": [
    "# load data\n",
    "opi_town_df = pd.read_csv('../data/opi_town_clean.csv')\n",
    "opi_town_df"
   ]
  },
  {
   "cell_type": "code",
   "execution_count": 3,
   "id": "a85d6a88",
   "metadata": {},
   "outputs": [
    {
     "name": "stdout",
     "output_type": "stream",
     "text": [
      "Sum of opioid related admissions by year\n",
      "----------------------------------------\n",
      "year\n",
      "2012    21127.0\n",
      "2013    22875.0\n",
      "2014    24332.0\n",
      "2015    27535.0\n",
      "2016    27773.0\n",
      "Name: admis, dtype: float64\n",
      "\n"
     ]
    }
   ],
   "source": [
    "# STEP 2:\n",
    "\n",
    "# analyze yearly values\n",
    "opi_town_year_df = opi_town_df.groupby('year')['admis'].sum().sort_values()\n",
    "\n",
    "title1='Sum of opioid related admissions by year'\n",
    "print(title1)\n",
    "print('-'*len(title1))\n",
    "print(opi_town_year_df)\n",
    "print()"
   ]
  },
  {
   "cell_type": "code",
   "execution_count": 16,
   "id": "46858a26",
   "metadata": {},
   "outputs": [
    {
     "name": "stdout",
     "output_type": "stream",
     "text": [
      "Sum of unique opioid related admissions by year\n",
      "-----------------------------------------------\n",
      "year\n",
      "2012    13027.0\n",
      "2013    14422.0\n",
      "2014    15189.0\n",
      "2016    16312.0\n",
      "2015    16713.0\n",
      "Name: undup_clients, dtype: float64\n",
      "\n"
     ]
    }
   ],
   "source": [
    "opi_town_year_undup_df = opi_town_df.groupby('year')['undup_clients'].sum().round().sort_values()\n",
    "\n",
    "title1='Sum of unique opioid related admissions by year'\n",
    "print(title1)\n",
    "print('-'*len(title1))\n",
    "print(opi_town_year_undup_df)\n",
    "print()"
   ]
  },
  {
   "cell_type": "code",
   "execution_count": 5,
   "id": "81198f5c",
   "metadata": {},
   "outputs": [
    {
     "data": {
      "text/html": [
       "<div>\n",
       "<style scoped>\n",
       "    .dataframe tbody tr th:only-of-type {\n",
       "        vertical-align: middle;\n",
       "    }\n",
       "\n",
       "    .dataframe tbody tr th {\n",
       "        vertical-align: top;\n",
       "    }\n",
       "\n",
       "    .dataframe thead th {\n",
       "        text-align: right;\n",
       "    }\n",
       "</style>\n",
       "<table border=\"1\" class=\"dataframe\">\n",
       "  <thead>\n",
       "    <tr style=\"text-align: right;\">\n",
       "      <th></th>\n",
       "      <th>admis</th>\n",
       "      <th>undup_clients</th>\n",
       "    </tr>\n",
       "    <tr>\n",
       "      <th>year</th>\n",
       "      <th></th>\n",
       "      <th></th>\n",
       "    </tr>\n",
       "  </thead>\n",
       "  <tbody>\n",
       "    <tr>\n",
       "      <th>2012</th>\n",
       "      <td>21127.0</td>\n",
       "      <td>13027.0</td>\n",
       "    </tr>\n",
       "    <tr>\n",
       "      <th>2013</th>\n",
       "      <td>22875.0</td>\n",
       "      <td>14422.0</td>\n",
       "    </tr>\n",
       "    <tr>\n",
       "      <th>2014</th>\n",
       "      <td>24332.0</td>\n",
       "      <td>15189.0</td>\n",
       "    </tr>\n",
       "    <tr>\n",
       "      <th>2015</th>\n",
       "      <td>27535.0</td>\n",
       "      <td>16713.0</td>\n",
       "    </tr>\n",
       "    <tr>\n",
       "      <th>2016</th>\n",
       "      <td>27773.0</td>\n",
       "      <td>16312.0</td>\n",
       "    </tr>\n",
       "  </tbody>\n",
       "</table>\n",
       "</div>"
      ],
      "text/plain": [
       "        admis  undup_clients\n",
       "year                        \n",
       "2012  21127.0        13027.0\n",
       "2013  22875.0        14422.0\n",
       "2014  24332.0        15189.0\n",
       "2015  27535.0        16713.0\n",
       "2016  27773.0        16312.0"
      ]
     },
     "execution_count": 5,
     "metadata": {},
     "output_type": "execute_result"
    }
   ],
   "source": [
    "# load yearly data into new df\n",
    "cols1 = ['year', 'admis', 'undup_clients']\n",
    "opi_years = opi_town_df[cols1].groupby('year').sum().round()\n",
    "opi_years"
   ]
  },
  {
   "cell_type": "code",
   "execution_count": 6,
   "id": "994e1666",
   "metadata": {},
   "outputs": [
    {
     "data": {
      "text/plain": [
       "<AxesSubplot:xlabel='year'>"
      ]
     },
     "execution_count": 6,
     "metadata": {},
     "output_type": "execute_result"
    },
    {
     "data": {
      "image/png": "[encoded data removed]",
      "text/plain": [
       "<Figure size 432x288 with 1 Axes>"
      ]
     },
     "metadata": {
      "needs_background": "light"
     },
     "output_type": "display_data"
    }
   ],
   "source": [
    "# STEP 3:\n",
    "\n",
    "# graph results to view trends\n",
    "opi_years.plot()"
   ]
  },
  {
   "cell_type": "code",
   "execution_count": 7,
   "id": "05be3b6e",
   "metadata": {},
   "outputs": [
    {
     "data": {
      "text/plain": [
       "<AxesSubplot:>"
      ]
     },
     "execution_count": 7,
     "metadata": {},
     "output_type": "execute_result"
    },
    {
     "data": {
      "image/png": "[encoded data removed]",
      "text/plain": [
       "<Figure size 432x288 with 1 Axes>"
      ]
     },
     "metadata": {
      "needs_background": "light"
     },
     "output_type": "display_data"
    }
   ],
   "source": [
    "# STEP 4:\n",
    "\n",
    "# use geopandas to view geographical trends\n",
    "opi_towns_gdf = gpd.read_file('../data/opi_admission_by_town.geojson')\n",
    "opi_towns_gdf.plot()"
   ]
  },
  {
   "cell_type": "code",
   "execution_count": 8,
   "id": "4725a4da",
   "metadata": {},
   "outputs": [],
   "source": [
    "# condense gdf\n",
    "opi_towns_gdf = opi_towns_gdf.drop(['geometry'], axis=1)"
   ]
  },
  {
   "cell_type": "code",
   "execution_count": 9,
   "id": "d573bbfc",
   "metadata": {},
   "outputs": [
    {
     "data": {
      "text/html": [
       "<div>\n",
       "<style scoped>\n",
       "    .dataframe tbody tr th:only-of-type {\n",
       "        vertical-align: middle;\n",
       "    }\n",
       "\n",
       "    .dataframe tbody tr th {\n",
       "        vertical-align: top;\n",
       "    }\n",
       "\n",
       "    .dataframe thead th {\n",
       "        text-align: right;\n",
       "    }\n",
       "</style>\n",
       "<table border=\"1\" class=\"dataframe\">\n",
       "  <thead>\n",
       "    <tr style=\"text-align: right;\">\n",
       "      <th></th>\n",
       "      <th>year</th>\n",
       "      <th>town</th>\n",
       "      <th>admis</th>\n",
       "      <th>undup_clients</th>\n",
       "      <th>town_geo</th>\n",
       "      <th>lat</th>\n",
       "      <th>lng</th>\n",
       "    </tr>\n",
       "  </thead>\n",
       "  <tbody>\n",
       "    <tr>\n",
       "      <th>0</th>\n",
       "      <td>2016</td>\n",
       "      <td>Suffield</td>\n",
       "      <td>35.0</td>\n",
       "      <td>24.0</td>\n",
       "      <td>Suffield, CT\\n(41.983549, -72.663124)</td>\n",
       "      <td>41.983549</td>\n",
       "      <td>-72.663124</td>\n",
       "    </tr>\n",
       "    <tr>\n",
       "      <th>1</th>\n",
       "      <td>2014</td>\n",
       "      <td>Thomaston</td>\n",
       "      <td>51.0</td>\n",
       "      <td>34.0</td>\n",
       "      <td>Thomaston, CT\\n(41.674124, -73.073189)</td>\n",
       "      <td>41.674124</td>\n",
       "      <td>-73.073189</td>\n",
       "    </tr>\n",
       "    <tr>\n",
       "      <th>2</th>\n",
       "      <td>2013</td>\n",
       "      <td>Sprague</td>\n",
       "      <td>35.0</td>\n",
       "      <td>16.0</td>\n",
       "      <td>Sprague, CT\\n(41.640692, -72.066224)</td>\n",
       "      <td>41.640692</td>\n",
       "      <td>-72.066224</td>\n",
       "    </tr>\n",
       "    <tr>\n",
       "      <th>3</th>\n",
       "      <td>2015</td>\n",
       "      <td>Monroe</td>\n",
       "      <td>83.0</td>\n",
       "      <td>46.0</td>\n",
       "      <td>Monroe, CT\\n(41.331612, -73.206797)</td>\n",
       "      <td>41.331612</td>\n",
       "      <td>-73.206797</td>\n",
       "    </tr>\n",
       "    <tr>\n",
       "      <th>4</th>\n",
       "      <td>2016</td>\n",
       "      <td>Cheshire</td>\n",
       "      <td>85.0</td>\n",
       "      <td>50.0</td>\n",
       "      <td>Cheshire, CT\\n(41.498834, -72.901448)</td>\n",
       "      <td>41.498834</td>\n",
       "      <td>-72.901448</td>\n",
       "    </tr>\n",
       "    <tr>\n",
       "      <th>...</th>\n",
       "      <td>...</td>\n",
       "      <td>...</td>\n",
       "      <td>...</td>\n",
       "      <td>...</td>\n",
       "      <td>...</td>\n",
       "      <td>...</td>\n",
       "      <td>...</td>\n",
       "    </tr>\n",
       "    <tr>\n",
       "      <th>845</th>\n",
       "      <td>2012</td>\n",
       "      <td>Salisbury</td>\n",
       "      <td>6.0</td>\n",
       "      <td>NaN</td>\n",
       "      <td>Salisbury, CT\\n(41.983411, -73.422268)</td>\n",
       "      <td>41.983411</td>\n",
       "      <td>-73.422268</td>\n",
       "    </tr>\n",
       "    <tr>\n",
       "      <th>846</th>\n",
       "      <td>2013</td>\n",
       "      <td>Bridgewater</td>\n",
       "      <td>7.0</td>\n",
       "      <td>NaN</td>\n",
       "      <td>Bridgewater, CT\\n(41.535109, -73.366386)</td>\n",
       "      <td>41.535109</td>\n",
       "      <td>-73.366386</td>\n",
       "    </tr>\n",
       "    <tr>\n",
       "      <th>847</th>\n",
       "      <td>2012</td>\n",
       "      <td>Lisbon</td>\n",
       "      <td>NaN</td>\n",
       "      <td>NaN</td>\n",
       "      <td>Lisbon, CT\\n(41.614599, -71.960584)</td>\n",
       "      <td>41.614599</td>\n",
       "      <td>-71.960584</td>\n",
       "    </tr>\n",
       "    <tr>\n",
       "      <th>848</th>\n",
       "      <td>2016</td>\n",
       "      <td>Goshen</td>\n",
       "      <td>15.0</td>\n",
       "      <td>NaN</td>\n",
       "      <td>Goshen, CT\\n(41.831925, -73.225323)</td>\n",
       "      <td>41.831925</td>\n",
       "      <td>-73.225323</td>\n",
       "    </tr>\n",
       "    <tr>\n",
       "      <th>849</th>\n",
       "      <td>2016</td>\n",
       "      <td>Scotland</td>\n",
       "      <td>8.0</td>\n",
       "      <td>NaN</td>\n",
       "      <td>Scotland, CT\\n(41.6975, -72.119465)</td>\n",
       "      <td>41.6975</td>\n",
       "      <td>-72.119465</td>\n",
       "    </tr>\n",
       "  </tbody>\n",
       "</table>\n",
       "<p>850 rows × 7 columns</p>\n",
       "</div>"
      ],
      "text/plain": [
       "     year         town  admis  undup_clients  \\\n",
       "0    2016     Suffield   35.0           24.0   \n",
       "1    2014    Thomaston   51.0           34.0   \n",
       "2    2013      Sprague   35.0           16.0   \n",
       "3    2015       Monroe   83.0           46.0   \n",
       "4    2016     Cheshire   85.0           50.0   \n",
       "..    ...          ...    ...            ...   \n",
       "845  2012    Salisbury    6.0            NaN   \n",
       "846  2013  Bridgewater    7.0            NaN   \n",
       "847  2012       Lisbon    NaN            NaN   \n",
       "848  2016       Goshen   15.0            NaN   \n",
       "849  2016     Scotland    8.0            NaN   \n",
       "\n",
       "                                     town_geo        lat         lng  \n",
       "0       Suffield, CT\\n(41.983549, -72.663124)  41.983549  -72.663124  \n",
       "1      Thomaston, CT\\n(41.674124, -73.073189)  41.674124  -73.073189  \n",
       "2        Sprague, CT\\n(41.640692, -72.066224)  41.640692  -72.066224  \n",
       "3         Monroe, CT\\n(41.331612, -73.206797)  41.331612  -73.206797  \n",
       "4       Cheshire, CT\\n(41.498834, -72.901448)  41.498834  -72.901448  \n",
       "..                                        ...        ...         ...  \n",
       "845    Salisbury, CT\\n(41.983411, -73.422268)  41.983411  -73.422268  \n",
       "846  Bridgewater, CT\\n(41.535109, -73.366386)  41.535109  -73.366386  \n",
       "847       Lisbon, CT\\n(41.614599, -71.960584)  41.614599  -71.960584  \n",
       "848       Goshen, CT\\n(41.831925, -73.225323)  41.831925  -73.225323  \n",
       "849       Scotland, CT\\n(41.6975, -72.119465)    41.6975  -72.119465  \n",
       "\n",
       "[850 rows x 7 columns]"
      ]
     },
     "execution_count": 9,
     "metadata": {},
     "output_type": "execute_result"
    }
   ],
   "source": [
    "opi_towns_gdf"
   ]
  },
  {
   "cell_type": "code",
   "execution_count": 10,
   "id": "17dd2dd9",
   "metadata": {
    "scrolled": true
   },
   "outputs": [
    {
     "data": {
      "text/html": [
       "<div>\n",
       "<style scoped>\n",
       "    .dataframe tbody tr th:only-of-type {\n",
       "        vertical-align: middle;\n",
       "    }\n",
       "\n",
       "    .dataframe tbody tr th {\n",
       "        vertical-align: top;\n",
       "    }\n",
       "\n",
       "    .dataframe thead th {\n",
       "        text-align: right;\n",
       "    }\n",
       "</style>\n",
       "<table border=\"1\" class=\"dataframe\">\n",
       "  <thead>\n",
       "    <tr style=\"text-align: right;\">\n",
       "      <th></th>\n",
       "      <th>shape_area</th>\n",
       "      <th>shape_len</th>\n",
       "      <th>town</th>\n",
       "      <th>town_no</th>\n",
       "      <th>geometry</th>\n",
       "    </tr>\n",
       "  </thead>\n",
       "  <tbody>\n",
       "    <tr>\n",
       "      <th>0</th>\n",
       "      <td>438072078.45</td>\n",
       "      <td>86301.9757031</td>\n",
       "      <td>Andover</td>\n",
       "      <td>1</td>\n",
       "      <td>MULTIPOLYGON (((-72.32832 41.73850, -72.32908 ...</td>\n",
       "    </tr>\n",
       "    <tr>\n",
       "      <th>1</th>\n",
       "      <td>174213597.004</td>\n",
       "      <td>53485.5073495</td>\n",
       "      <td>Ansonia</td>\n",
       "      <td>2</td>\n",
       "      <td>MULTIPOLYGON (((-73.04714 41.36060, -73.04703 ...</td>\n",
       "    </tr>\n",
       "    <tr>\n",
       "      <th>2</th>\n",
       "      <td>747847367.917</td>\n",
       "      <td>113541.759528</td>\n",
       "      <td>Bristol</td>\n",
       "      <td>17</td>\n",
       "      <td>MULTIPOLYGON (((-72.99832 41.71259, -72.97897 ...</td>\n",
       "    </tr>\n",
       "    <tr>\n",
       "      <th>3</th>\n",
       "      <td>654799731.177</td>\n",
       "      <td>106323.918988</td>\n",
       "      <td>Marlborough</td>\n",
       "      <td>79</td>\n",
       "      <td>MULTIPOLYGON (((-72.50582 41.64719, -72.50493 ...</td>\n",
       "    </tr>\n",
       "    <tr>\n",
       "      <th>4</th>\n",
       "      <td>1100723982.91</td>\n",
       "      <td>141771.149112</td>\n",
       "      <td>Ashford</td>\n",
       "      <td>3</td>\n",
       "      <td>MULTIPOLYGON (((-72.21693 41.95823, -72.21310 ...</td>\n",
       "    </tr>\n",
       "    <tr>\n",
       "      <th>...</th>\n",
       "      <td>...</td>\n",
       "      <td>...</td>\n",
       "      <td>...</td>\n",
       "      <td>...</td>\n",
       "      <td>...</td>\n",
       "    </tr>\n",
       "    <tr>\n",
       "      <th>164</th>\n",
       "      <td>260344837.755</td>\n",
       "      <td>69140.8058728</td>\n",
       "      <td>Windsor Locks</td>\n",
       "      <td>165</td>\n",
       "      <td>MULTIPOLYGON (((-72.68763 41.94821, -72.67428 ...</td>\n",
       "    </tr>\n",
       "    <tr>\n",
       "      <th>165</th>\n",
       "      <td>589785648.817</td>\n",
       "      <td>96002.6425799</td>\n",
       "      <td>Wolcott</td>\n",
       "      <td>166</td>\n",
       "      <td>MULTIPOLYGON (((-72.93826 41.64411, -72.93800 ...</td>\n",
       "    </tr>\n",
       "    <tr>\n",
       "      <th>166</th>\n",
       "      <td>535028654.486</td>\n",
       "      <td>104433.183884</td>\n",
       "      <td>Woodbridge</td>\n",
       "      <td>167</td>\n",
       "      <td>MULTIPOLYGON (((-73.04762 41.39583, -73.04742 ...</td>\n",
       "    </tr>\n",
       "    <tr>\n",
       "      <th>167</th>\n",
       "      <td>1024305215.2</td>\n",
       "      <td>132559.4855</td>\n",
       "      <td>Woodbury</td>\n",
       "      <td>168</td>\n",
       "      <td>MULTIPOLYGON (((-73.25351 41.60455, -73.24956 ...</td>\n",
       "    </tr>\n",
       "    <tr>\n",
       "      <th>168</th>\n",
       "      <td>1719966271.12</td>\n",
       "      <td>166595.548744</td>\n",
       "      <td>Woodstock</td>\n",
       "      <td>169</td>\n",
       "      <td>MULTIPOLYGON (((-71.96318 42.02619, -71.95353 ...</td>\n",
       "    </tr>\n",
       "  </tbody>\n",
       "</table>\n",
       "<p>169 rows × 5 columns</p>\n",
       "</div>"
      ],
      "text/plain": [
       "        shape_area      shape_len           town town_no  \\\n",
       "0     438072078.45  86301.9757031        Andover       1   \n",
       "1    174213597.004  53485.5073495        Ansonia       2   \n",
       "2    747847367.917  113541.759528        Bristol      17   \n",
       "3    654799731.177  106323.918988    Marlborough      79   \n",
       "4    1100723982.91  141771.149112        Ashford       3   \n",
       "..             ...            ...            ...     ...   \n",
       "164  260344837.755  69140.8058728  Windsor Locks     165   \n",
       "165  589785648.817  96002.6425799        Wolcott     166   \n",
       "166  535028654.486  104433.183884     Woodbridge     167   \n",
       "167   1024305215.2    132559.4855       Woodbury     168   \n",
       "168  1719966271.12  166595.548744      Woodstock     169   \n",
       "\n",
       "                                              geometry  \n",
       "0    MULTIPOLYGON (((-72.32832 41.73850, -72.32908 ...  \n",
       "1    MULTIPOLYGON (((-73.04714 41.36060, -73.04703 ...  \n",
       "2    MULTIPOLYGON (((-72.99832 41.71259, -72.97897 ...  \n",
       "3    MULTIPOLYGON (((-72.50582 41.64719, -72.50493 ...  \n",
       "4    MULTIPOLYGON (((-72.21693 41.95823, -72.21310 ...  \n",
       "..                                                 ...  \n",
       "164  MULTIPOLYGON (((-72.68763 41.94821, -72.67428 ...  \n",
       "165  MULTIPOLYGON (((-72.93826 41.64411, -72.93800 ...  \n",
       "166  MULTIPOLYGON (((-73.04762 41.39583, -73.04742 ...  \n",
       "167  MULTIPOLYGON (((-73.25351 41.60455, -73.24956 ...  \n",
       "168  MULTIPOLYGON (((-71.96318 42.02619, -71.95353 ...  \n",
       "\n",
       "[169 rows x 5 columns]"
      ]
     },
     "execution_count": 10,
     "metadata": {},
     "output_type": "execute_result"
    }
   ],
   "source": [
    "# load data set w/ town shapes, as opposed to points\n",
    "town_map_gdf = gpd.read_file('../data/ct_towns_map.geojson')\n",
    "town_map_gdf"
   ]
  },
  {
   "cell_type": "code",
   "execution_count": 11,
   "id": "78a8b71b",
   "metadata": {
    "scrolled": true
   },
   "outputs": [
    {
     "data": {
      "text/plain": [
       "<AxesSubplot:>"
      ]
     },
     "execution_count": 11,
     "metadata": {},
     "output_type": "execute_result"
    },
    {
     "data": {
      "image/png": "[encoded data removed]",
      "text/plain": [
       "<Figure size 432x288 with 1 Axes>"
      ]
     },
     "metadata": {
      "needs_background": "light"
     },
     "output_type": "display_data"
    }
   ],
   "source": [
    "town_map_gdf.plot()"
   ]
  },
  {
   "cell_type": "code",
   "execution_count": 12,
   "id": "91b59d7c",
   "metadata": {},
   "outputs": [],
   "source": [
    "# merge gdfs to combine shapes w/ admissions data\n",
    "merged_inner = pd.merge(left=opi_towns_gdf, right=town_map_gdf, left_on='town', right_on='town')"
   ]
  },
  {
   "cell_type": "code",
   "execution_count": 13,
   "id": "8bcda318",
   "metadata": {},
   "outputs": [
    {
     "data": {
      "text/html": [
       "<div>\n",
       "<style scoped>\n",
       "    .dataframe tbody tr th:only-of-type {\n",
       "        vertical-align: middle;\n",
       "    }\n",
       "\n",
       "    .dataframe tbody tr th {\n",
       "        vertical-align: top;\n",
       "    }\n",
       "\n",
       "    .dataframe thead th {\n",
       "        text-align: right;\n",
       "    }\n",
       "</style>\n",
       "<table border=\"1\" class=\"dataframe\">\n",
       "  <thead>\n",
       "    <tr style=\"text-align: right;\">\n",
       "      <th></th>\n",
       "      <th>year</th>\n",
       "      <th>admis</th>\n",
       "      <th>undup_clients</th>\n",
       "    </tr>\n",
       "    <tr>\n",
       "      <th>town</th>\n",
       "      <th></th>\n",
       "      <th></th>\n",
       "      <th></th>\n",
       "    </tr>\n",
       "  </thead>\n",
       "  <tbody>\n",
       "    <tr>\n",
       "      <th>Andover</th>\n",
       "      <td>10070</td>\n",
       "      <td>48.0</td>\n",
       "      <td>26.0</td>\n",
       "    </tr>\n",
       "    <tr>\n",
       "      <th>Ansonia</th>\n",
       "      <td>10070</td>\n",
       "      <td>756.0</td>\n",
       "      <td>489.0</td>\n",
       "    </tr>\n",
       "    <tr>\n",
       "      <th>Ashford</th>\n",
       "      <td>10070</td>\n",
       "      <td>126.0</td>\n",
       "      <td>85.0</td>\n",
       "    </tr>\n",
       "    <tr>\n",
       "      <th>Avon</th>\n",
       "      <td>10070</td>\n",
       "      <td>76.0</td>\n",
       "      <td>47.0</td>\n",
       "    </tr>\n",
       "    <tr>\n",
       "      <th>Barkhamsted</th>\n",
       "      <td>10070</td>\n",
       "      <td>113.0</td>\n",
       "      <td>66.0</td>\n",
       "    </tr>\n",
       "    <tr>\n",
       "      <th>...</th>\n",
       "      <td>...</td>\n",
       "      <td>...</td>\n",
       "      <td>...</td>\n",
       "    </tr>\n",
       "    <tr>\n",
       "      <th>Windsor Locks</th>\n",
       "      <td>10070</td>\n",
       "      <td>352.0</td>\n",
       "      <td>222.0</td>\n",
       "    </tr>\n",
       "    <tr>\n",
       "      <th>Wolcott</th>\n",
       "      <td>10070</td>\n",
       "      <td>618.0</td>\n",
       "      <td>365.0</td>\n",
       "    </tr>\n",
       "    <tr>\n",
       "      <th>Woodbridge</th>\n",
       "      <td>10070</td>\n",
       "      <td>96.0</td>\n",
       "      <td>72.0</td>\n",
       "    </tr>\n",
       "    <tr>\n",
       "      <th>Woodbury</th>\n",
       "      <td>10070</td>\n",
       "      <td>130.0</td>\n",
       "      <td>91.0</td>\n",
       "    </tr>\n",
       "    <tr>\n",
       "      <th>Woodstock</th>\n",
       "      <td>10070</td>\n",
       "      <td>107.0</td>\n",
       "      <td>67.0</td>\n",
       "    </tr>\n",
       "  </tbody>\n",
       "</table>\n",
       "<p>169 rows × 3 columns</p>\n",
       "</div>"
      ],
      "text/plain": [
       "                year  admis  undup_clients\n",
       "town                                      \n",
       "Andover        10070   48.0           26.0\n",
       "Ansonia        10070  756.0          489.0\n",
       "Ashford        10070  126.0           85.0\n",
       "Avon           10070   76.0           47.0\n",
       "Barkhamsted    10070  113.0           66.0\n",
       "...              ...    ...            ...\n",
       "Windsor Locks  10070  352.0          222.0\n",
       "Wolcott        10070  618.0          365.0\n",
       "Woodbridge     10070   96.0           72.0\n",
       "Woodbury       10070  130.0           91.0\n",
       "Woodstock      10070  107.0           67.0\n",
       "\n",
       "[169 rows x 3 columns]"
      ]
     },
     "execution_count": 13,
     "metadata": {},
     "output_type": "execute_result"
    }
   ],
   "source": [
    "cols2 = ['year', 'town', 'admis', 'undup_clients','shape_area','shape_len','geometry']\n",
    "merged_inner = merged_inner[cols2].groupby('town').sum().round()\n",
    "merged_inner"
   ]
  },
  {
   "cell_type": "code",
   "execution_count": 14,
   "id": "aa6a6ac4",
   "metadata": {
    "scrolled": true
   },
   "outputs": [
    {
     "data": {
      "text/plain": [
       "<pandas.core.groupby.generic.DataFrameGroupBy object at 0x7f4884fab3d0>"
      ]
     },
     "execution_count": 14,
     "metadata": {},
     "output_type": "execute_result"
    }
   ],
   "source": [
    "merged_inner = merged_inner.groupby('town')\n",
    "merged_inner"
   ]
  },
  {
   "cell_type": "code",
   "execution_count": 15,
   "id": "0bfc9acb",
   "metadata": {},
   "outputs": [
    {
     "ename": "NameError",
     "evalue": "name 'opi_town_gdf' is not defined",
     "output_type": "error",
     "traceback": [
      "\u001b[0;31m---------------------------------------------------------------------------\u001b[0m",
      "\u001b[0;31mNameError\u001b[0m                                 Traceback (most recent call last)",
      "\u001b[0;32m/tmp/ipykernel_1428281/2696150340.py\u001b[0m in \u001b[0;36m<module>\u001b[0;34m\u001b[0m\n\u001b[1;32m      1\u001b[0m \u001b[0mcols2\u001b[0m \u001b[0;34m=\u001b[0m \u001b[0;34m[\u001b[0m\u001b[0;34m'town'\u001b[0m\u001b[0;34m,\u001b[0m \u001b[0;34m'admis'\u001b[0m\u001b[0;34m,\u001b[0m \u001b[0;34m'undup_clients'\u001b[0m\u001b[0;34m]\u001b[0m\u001b[0;34m\u001b[0m\u001b[0;34m\u001b[0m\u001b[0m\n\u001b[0;32m----> 2\u001b[0;31m \u001b[0mopi_towns\u001b[0m \u001b[0;34m=\u001b[0m \u001b[0mopi_town_gdf\u001b[0m\u001b[0;34m[\u001b[0m\u001b[0mcols2\u001b[0m\u001b[0;34m]\u001b[0m\u001b[0;34m.\u001b[0m\u001b[0mgroupby\u001b[0m\u001b[0;34m(\u001b[0m\u001b[0;34m'town'\u001b[0m\u001b[0;34m)\u001b[0m\u001b[0;34m.\u001b[0m\u001b[0mmean\u001b[0m\u001b[0;34m(\u001b[0m\u001b[0;34m)\u001b[0m\u001b[0;34m.\u001b[0m\u001b[0mround\u001b[0m\u001b[0;34m(\u001b[0m\u001b[0;34m)\u001b[0m\u001b[0;34m\u001b[0m\u001b[0;34m\u001b[0m\u001b[0m\n\u001b[0m\u001b[1;32m      3\u001b[0m \u001b[0mopi_towns\u001b[0m\u001b[0;34m\u001b[0m\u001b[0;34m\u001b[0m\u001b[0m\n",
      "\u001b[0;31mNameError\u001b[0m: name 'opi_town_gdf' is not defined"
     ]
    }
   ],
   "source": [
    "cols2 = ['town', 'admis', 'undup_clients']\n",
    "opi_towns = opi_town_gdf[cols2].groupby('town').mean().round()\n",
    "opi_towns"
   ]
  },
  {
   "cell_type": "markdown",
   "id": "286d09c8",
   "metadata": {},
   "source": [
    "------------\n",
    "\n",
    "### 4) Answer:\n",
    "\n",
    "1. Rates increased\n",
    "2. TBD"
   ]
  },
  {
   "cell_type": "markdown",
   "id": "d08999c9",
   "metadata": {},
   "source": [
    "------------\n",
    "\n",
    "### 5) Interpretation/Observation:\n",
    "\n",
    "* Need to fix data in late Step 3 & combine what I have with data about opioid prescriptions, but some observations can be madae regarding the questions\n",
    "1. It appears that opioid rehab admissions rates increased from 2012-2016. That being said, the number of clients admitted had a slight decrease from 2015 to 2016. This is notable.\n",
    "2. Due to difficulties with GeoPandas data, it is too hard to currently make inferences about the geographical data."
   ]
  }
 ],
 "metadata": {
  "kernelspec": {
   "display_name": "Python 3 (COMM318)",
   "language": "python",
   "name": "python3"
  },
  "language_info": {
   "codemirror_mode": {
    "name": "ipython",
    "version": 3
   },
   "file_extension": ".py",
   "mimetype": "text/x-python",
   "name": "python",
   "nbconvert_exporter": "python",
   "pygments_lexer": "ipython3",
   "version": "3.8.8"
  }
 },
 "nbformat": 4,
 "nbformat_minor": 5
}
