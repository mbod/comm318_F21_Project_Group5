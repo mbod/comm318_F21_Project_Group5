{
 "cells": [
  {
   "cell_type": "markdown",
   "id": "dbe6114e",
   "metadata": {},
   "source": [
    "## Drug Overdose Death Analysis"
   ]
  },
  {
   "cell_type": "markdown",
   "id": "2e9a58d1",
   "metadata": {},
   "source": [
    "Using data from https://catalog.data.gov/dataset/vsrr-provisional-drug-overdose-death-counts on federal death overdose counts."
   ]
  },
  {
   "cell_type": "markdown",
   "id": "35be7dc9",
   "metadata": {},
   "source": [
    "# Questions\n",
    "* Have total number of deaths increased or decreased?\n",
    "* Have total opioid deaths increased or decreaesd?\n",
    "* Which states have the highest and lowest number of opioid deaths?"
   ]
  },
  {
   "cell_type": "markdown",
   "id": "cee534cb",
   "metadata": {},
   "source": [
    "## Steps\n",
    "* Load the Data\n",
    "* Create two filters: one for number of deaths and opioid deaths\n",
    "* Group the filtered data sets by year, sum the data, and sort\n",
    "* Plot the grouped and filtered sums to see the trend of the data over time\n",
    "* Group the data by state and sum to see the total number of opioid deaths"
   ]
  },
  {
   "cell_type": "code",
   "execution_count": 8,
   "id": "878d3451",
   "metadata": {},
   "outputs": [],
   "source": [
    "#load the data\n",
    "import warnings\n",
    "warnings.simplefilter('ignore')\n",
    "import matplotlib.pyplot as plt\n",
    "import pandas as pd"
   ]
  },
  {
   "cell_type": "code",
   "execution_count": 10,
   "id": "d9138a9b",
   "metadata": {},
   "outputs": [
    {
     "data": {
      "text/html": [
       "<div>\n",
       "<style scoped>\n",
       "    .dataframe tbody tr th:only-of-type {\n",
       "        vertical-align: middle;\n",
       "    }\n",
       "\n",
       "    .dataframe tbody tr th {\n",
       "        vertical-align: top;\n",
       "    }\n",
       "\n",
       "    .dataframe thead th {\n",
       "        text-align: right;\n",
       "    }\n",
       "</style>\n",
       "<table border=\"1\" class=\"dataframe\">\n",
       "  <thead>\n",
       "    <tr style=\"text-align: right;\">\n",
       "      <th></th>\n",
       "      <th>Unnamed: 0</th>\n",
       "      <th>State</th>\n",
       "      <th>Year</th>\n",
       "      <th>Month</th>\n",
       "      <th>Indicator</th>\n",
       "      <th>Data_Value</th>\n",
       "      <th>Percent_Complete</th>\n",
       "      <th>Percent_Pending_Investigation</th>\n",
       "      <th>Predicted_Value</th>\n",
       "    </tr>\n",
       "  </thead>\n",
       "  <tbody>\n",
       "    <tr>\n",
       "      <th>0</th>\n",
       "      <td>0</td>\n",
       "      <td>AK</td>\n",
       "      <td>2015</td>\n",
       "      <td>April</td>\n",
       "      <td>Natural, semi-synthetic, &amp; synthetic opioids, ...</td>\n",
       "      <td>NaN</td>\n",
       "      <td>100</td>\n",
       "      <td>0.000000</td>\n",
       "      <td>NaN</td>\n",
       "    </tr>\n",
       "    <tr>\n",
       "      <th>1</th>\n",
       "      <td>1</td>\n",
       "      <td>AK</td>\n",
       "      <td>2015</td>\n",
       "      <td>April</td>\n",
       "      <td>Natural &amp; semi-synthetic opioids (T40.2)</td>\n",
       "      <td>NaN</td>\n",
       "      <td>100</td>\n",
       "      <td>0.000000</td>\n",
       "      <td>NaN</td>\n",
       "    </tr>\n",
       "    <tr>\n",
       "      <th>2</th>\n",
       "      <td>2</td>\n",
       "      <td>AK</td>\n",
       "      <td>2015</td>\n",
       "      <td>April</td>\n",
       "      <td>Natural &amp; semi-synthetic opioids, incl. methad...</td>\n",
       "      <td>NaN</td>\n",
       "      <td>100</td>\n",
       "      <td>0.000000</td>\n",
       "      <td>NaN</td>\n",
       "    </tr>\n",
       "    <tr>\n",
       "      <th>3</th>\n",
       "      <td>3</td>\n",
       "      <td>AK</td>\n",
       "      <td>2015</td>\n",
       "      <td>April</td>\n",
       "      <td>Number of Deaths</td>\n",
       "      <td>4133.000000</td>\n",
       "      <td>100</td>\n",
       "      <td>0.000000</td>\n",
       "      <td>NaN</td>\n",
       "    </tr>\n",
       "    <tr>\n",
       "      <th>4</th>\n",
       "      <td>4</td>\n",
       "      <td>AK</td>\n",
       "      <td>2015</td>\n",
       "      <td>April</td>\n",
       "      <td>Opioids (T40.0-T40.4,T40.6)</td>\n",
       "      <td>NaN</td>\n",
       "      <td>100</td>\n",
       "      <td>0.000000</td>\n",
       "      <td>NaN</td>\n",
       "    </tr>\n",
       "    <tr>\n",
       "      <th>...</th>\n",
       "      <td>...</td>\n",
       "      <td>...</td>\n",
       "      <td>...</td>\n",
       "      <td>...</td>\n",
       "      <td>...</td>\n",
       "      <td>...</td>\n",
       "      <td>...</td>\n",
       "      <td>...</td>\n",
       "      <td>...</td>\n",
       "    </tr>\n",
       "    <tr>\n",
       "      <th>41620</th>\n",
       "      <td>41620</td>\n",
       "      <td>YC</td>\n",
       "      <td>2021</td>\n",
       "      <td>March</td>\n",
       "      <td>Cocaine (T40.5)</td>\n",
       "      <td>908.000000</td>\n",
       "      <td>100</td>\n",
       "      <td>0.258858</td>\n",
       "      <td>937.0</td>\n",
       "    </tr>\n",
       "    <tr>\n",
       "      <th>41621</th>\n",
       "      <td>41621</td>\n",
       "      <td>YC</td>\n",
       "      <td>2021</td>\n",
       "      <td>March</td>\n",
       "      <td>Percent with drugs specified</td>\n",
       "      <td>99.063754</td>\n",
       "      <td>100</td>\n",
       "      <td>0.258858</td>\n",
       "      <td>NaN</td>\n",
       "    </tr>\n",
       "    <tr>\n",
       "      <th>41622</th>\n",
       "      <td>41622</td>\n",
       "      <td>YC</td>\n",
       "      <td>2021</td>\n",
       "      <td>March</td>\n",
       "      <td>Natural, semi-synthetic, &amp; synthetic opioids, ...</td>\n",
       "      <td>1853.000000</td>\n",
       "      <td>100</td>\n",
       "      <td>0.258858</td>\n",
       "      <td>1914.0</td>\n",
       "    </tr>\n",
       "    <tr>\n",
       "      <th>41623</th>\n",
       "      <td>41623</td>\n",
       "      <td>YC</td>\n",
       "      <td>2021</td>\n",
       "      <td>March</td>\n",
       "      <td>Natural &amp; semi-synthetic opioids, incl. methad...</td>\n",
       "      <td>672.000000</td>\n",
       "      <td>100</td>\n",
       "      <td>0.258858</td>\n",
       "      <td>693.0</td>\n",
       "    </tr>\n",
       "    <tr>\n",
       "      <th>41624</th>\n",
       "      <td>41624</td>\n",
       "      <td>YC</td>\n",
       "      <td>2021</td>\n",
       "      <td>March</td>\n",
       "      <td>Synthetic opioids, excl. methadone (T40.4)</td>\n",
       "      <td>1718.000000</td>\n",
       "      <td>100</td>\n",
       "      <td>0.258858</td>\n",
       "      <td>1778.0</td>\n",
       "    </tr>\n",
       "  </tbody>\n",
       "</table>\n",
       "<p>41625 rows × 9 columns</p>\n",
       "</div>"
      ],
      "text/plain": [
       "       Unnamed: 0 State  Year  Month  \\\n",
       "0               0    AK  2015  April   \n",
       "1               1    AK  2015  April   \n",
       "2               2    AK  2015  April   \n",
       "3               3    AK  2015  April   \n",
       "4               4    AK  2015  April   \n",
       "...           ...   ...   ...    ...   \n",
       "41620       41620    YC  2021  March   \n",
       "41621       41621    YC  2021  March   \n",
       "41622       41622    YC  2021  March   \n",
       "41623       41623    YC  2021  March   \n",
       "41624       41624    YC  2021  March   \n",
       "\n",
       "                                               Indicator   Data_Value  \\\n",
       "0      Natural, semi-synthetic, & synthetic opioids, ...          NaN   \n",
       "1               Natural & semi-synthetic opioids (T40.2)          NaN   \n",
       "2      Natural & semi-synthetic opioids, incl. methad...          NaN   \n",
       "3                                       Number of Deaths  4133.000000   \n",
       "4                            Opioids (T40.0-T40.4,T40.6)          NaN   \n",
       "...                                                  ...          ...   \n",
       "41620                                    Cocaine (T40.5)   908.000000   \n",
       "41621                       Percent with drugs specified    99.063754   \n",
       "41622  Natural, semi-synthetic, & synthetic opioids, ...  1853.000000   \n",
       "41623  Natural & semi-synthetic opioids, incl. methad...   672.000000   \n",
       "41624         Synthetic opioids, excl. methadone (T40.4)  1718.000000   \n",
       "\n",
       "      Percent_Complete  Percent_Pending_Investigation  Predicted_Value  \n",
       "0                  100                       0.000000              NaN  \n",
       "1                  100                       0.000000              NaN  \n",
       "2                  100                       0.000000              NaN  \n",
       "3                  100                       0.000000              NaN  \n",
       "4                  100                       0.000000              NaN  \n",
       "...                ...                            ...              ...  \n",
       "41620              100                       0.258858            937.0  \n",
       "41621              100                       0.258858              NaN  \n",
       "41622              100                       0.258858           1914.0  \n",
       "41623              100                       0.258858            693.0  \n",
       "41624              100                       0.258858           1778.0  \n",
       "\n",
       "[41625 rows x 9 columns]"
      ]
     },
     "execution_count": 10,
     "metadata": {},
     "output_type": "execute_result"
    }
   ],
   "source": [
    "od_df = pd.read_csv('../data/drug_overdose_death_clean.csv')\n",
    "od_df"
   ]
  },
  {
   "cell_type": "code",
   "execution_count": 15,
   "id": "95afd476",
   "metadata": {},
   "outputs": [
    {
     "data": {
      "text/html": [
       "<div>\n",
       "<style scoped>\n",
       "    .dataframe tbody tr th:only-of-type {\n",
       "        vertical-align: middle;\n",
       "    }\n",
       "\n",
       "    .dataframe tbody tr th {\n",
       "        vertical-align: top;\n",
       "    }\n",
       "\n",
       "    .dataframe thead th {\n",
       "        text-align: right;\n",
       "    }\n",
       "</style>\n",
       "<table border=\"1\" class=\"dataframe\">\n",
       "  <thead>\n",
       "    <tr style=\"text-align: right;\">\n",
       "      <th></th>\n",
       "      <th>State</th>\n",
       "      <th>Year</th>\n",
       "      <th>Month</th>\n",
       "      <th>Indicator</th>\n",
       "      <th>Data_Value</th>\n",
       "      <th>Percent_Complete</th>\n",
       "      <th>Percent_Pending_Investigation</th>\n",
       "      <th>Predicted_Value</th>\n",
       "    </tr>\n",
       "  </thead>\n",
       "  <tbody>\n",
       "    <tr>\n",
       "      <th>0</th>\n",
       "      <td>AK</td>\n",
       "      <td>2015</td>\n",
       "      <td>April</td>\n",
       "      <td>Natural, semi-synthetic, &amp; synthetic opioids, ...</td>\n",
       "      <td>NaN</td>\n",
       "      <td>100</td>\n",
       "      <td>0.000000</td>\n",
       "      <td>NaN</td>\n",
       "    </tr>\n",
       "    <tr>\n",
       "      <th>1</th>\n",
       "      <td>AK</td>\n",
       "      <td>2015</td>\n",
       "      <td>April</td>\n",
       "      <td>Natural &amp; semi-synthetic opioids (T40.2)</td>\n",
       "      <td>NaN</td>\n",
       "      <td>100</td>\n",
       "      <td>0.000000</td>\n",
       "      <td>NaN</td>\n",
       "    </tr>\n",
       "    <tr>\n",
       "      <th>2</th>\n",
       "      <td>AK</td>\n",
       "      <td>2015</td>\n",
       "      <td>April</td>\n",
       "      <td>Natural &amp; semi-synthetic opioids, incl. methad...</td>\n",
       "      <td>NaN</td>\n",
       "      <td>100</td>\n",
       "      <td>0.000000</td>\n",
       "      <td>NaN</td>\n",
       "    </tr>\n",
       "    <tr>\n",
       "      <th>3</th>\n",
       "      <td>AK</td>\n",
       "      <td>2015</td>\n",
       "      <td>April</td>\n",
       "      <td>Number of Deaths</td>\n",
       "      <td>4133.000000</td>\n",
       "      <td>100</td>\n",
       "      <td>0.000000</td>\n",
       "      <td>NaN</td>\n",
       "    </tr>\n",
       "    <tr>\n",
       "      <th>4</th>\n",
       "      <td>AK</td>\n",
       "      <td>2015</td>\n",
       "      <td>April</td>\n",
       "      <td>Opioids (T40.0-T40.4,T40.6)</td>\n",
       "      <td>NaN</td>\n",
       "      <td>100</td>\n",
       "      <td>0.000000</td>\n",
       "      <td>NaN</td>\n",
       "    </tr>\n",
       "    <tr>\n",
       "      <th>...</th>\n",
       "      <td>...</td>\n",
       "      <td>...</td>\n",
       "      <td>...</td>\n",
       "      <td>...</td>\n",
       "      <td>...</td>\n",
       "      <td>...</td>\n",
       "      <td>...</td>\n",
       "      <td>...</td>\n",
       "    </tr>\n",
       "    <tr>\n",
       "      <th>41620</th>\n",
       "      <td>YC</td>\n",
       "      <td>2021</td>\n",
       "      <td>March</td>\n",
       "      <td>Cocaine (T40.5)</td>\n",
       "      <td>908.000000</td>\n",
       "      <td>100</td>\n",
       "      <td>0.258858</td>\n",
       "      <td>937.0</td>\n",
       "    </tr>\n",
       "    <tr>\n",
       "      <th>41621</th>\n",
       "      <td>YC</td>\n",
       "      <td>2021</td>\n",
       "      <td>March</td>\n",
       "      <td>Percent with drugs specified</td>\n",
       "      <td>99.063754</td>\n",
       "      <td>100</td>\n",
       "      <td>0.258858</td>\n",
       "      <td>NaN</td>\n",
       "    </tr>\n",
       "    <tr>\n",
       "      <th>41622</th>\n",
       "      <td>YC</td>\n",
       "      <td>2021</td>\n",
       "      <td>March</td>\n",
       "      <td>Natural, semi-synthetic, &amp; synthetic opioids, ...</td>\n",
       "      <td>1853.000000</td>\n",
       "      <td>100</td>\n",
       "      <td>0.258858</td>\n",
       "      <td>1914.0</td>\n",
       "    </tr>\n",
       "    <tr>\n",
       "      <th>41623</th>\n",
       "      <td>YC</td>\n",
       "      <td>2021</td>\n",
       "      <td>March</td>\n",
       "      <td>Natural &amp; semi-synthetic opioids, incl. methad...</td>\n",
       "      <td>672.000000</td>\n",
       "      <td>100</td>\n",
       "      <td>0.258858</td>\n",
       "      <td>693.0</td>\n",
       "    </tr>\n",
       "    <tr>\n",
       "      <th>41624</th>\n",
       "      <td>YC</td>\n",
       "      <td>2021</td>\n",
       "      <td>March</td>\n",
       "      <td>Synthetic opioids, excl. methadone (T40.4)</td>\n",
       "      <td>1718.000000</td>\n",
       "      <td>100</td>\n",
       "      <td>0.258858</td>\n",
       "      <td>1778.0</td>\n",
       "    </tr>\n",
       "  </tbody>\n",
       "</table>\n",
       "<p>41625 rows × 8 columns</p>\n",
       "</div>"
      ],
      "text/plain": [
       "      State  Year  Month                                          Indicator  \\\n",
       "0        AK  2015  April  Natural, semi-synthetic, & synthetic opioids, ...   \n",
       "1        AK  2015  April           Natural & semi-synthetic opioids (T40.2)   \n",
       "2        AK  2015  April  Natural & semi-synthetic opioids, incl. methad...   \n",
       "3        AK  2015  April                                   Number of Deaths   \n",
       "4        AK  2015  April                        Opioids (T40.0-T40.4,T40.6)   \n",
       "...     ...   ...    ...                                                ...   \n",
       "41620    YC  2021  March                                    Cocaine (T40.5)   \n",
       "41621    YC  2021  March                       Percent with drugs specified   \n",
       "41622    YC  2021  March  Natural, semi-synthetic, & synthetic opioids, ...   \n",
       "41623    YC  2021  March  Natural & semi-synthetic opioids, incl. methad...   \n",
       "41624    YC  2021  March         Synthetic opioids, excl. methadone (T40.4)   \n",
       "\n",
       "        Data_Value Percent_Complete  Percent_Pending_Investigation  \\\n",
       "0              NaN              100                       0.000000   \n",
       "1              NaN              100                       0.000000   \n",
       "2              NaN              100                       0.000000   \n",
       "3      4133.000000              100                       0.000000   \n",
       "4              NaN              100                       0.000000   \n",
       "...            ...              ...                            ...   \n",
       "41620   908.000000              100                       0.258858   \n",
       "41621    99.063754              100                       0.258858   \n",
       "41622  1853.000000              100                       0.258858   \n",
       "41623   672.000000              100                       0.258858   \n",
       "41624  1718.000000              100                       0.258858   \n",
       "\n",
       "       Predicted_Value  \n",
       "0                  NaN  \n",
       "1                  NaN  \n",
       "2                  NaN  \n",
       "3                  NaN  \n",
       "4                  NaN  \n",
       "...                ...  \n",
       "41620            937.0  \n",
       "41621              NaN  \n",
       "41622           1914.0  \n",
       "41623            693.0  \n",
       "41624           1778.0  \n",
       "\n",
       "[41625 rows x 8 columns]"
      ]
     },
     "execution_count": 15,
     "metadata": {},
     "output_type": "execute_result"
    }
   ],
   "source": [
    "od_df.drop('Unnamed: 0', axis=1)"
   ]
  },
  {
   "cell_type": "code",
   "execution_count": 17,
   "id": "5f0571e2",
   "metadata": {},
   "outputs": [],
   "source": [
    "#create row filters\n",
    "num_deaths_filter = od_df['Indicator']=='Number of Deaths'\n",
    "opioid_filter = od_df['Indicator']=='Opioids (T40.0-T40.4,T40.6)'\n",
    "\n",
    "num_deaths_df = od_df[num_deaths_filter]\n",
    "opioid_df = od_df[opioid_filter]"
   ]
  },
  {
   "cell_type": "code",
   "execution_count": 18,
   "id": "0efd0f91",
   "metadata": {
    "scrolled": false
   },
   "outputs": [
    {
     "data": {
      "text/plain": [
       "Year\n",
       "2020    74011854.0\n",
       "2018    68362228.0\n",
       "2019    68048908.0\n",
       "2017    67034290.0\n",
       "2016    65172392.0\n",
       "2015    64861344.0\n",
       "2021    21141198.0\n",
       "Name: Data_Value, dtype: float64"
      ]
     },
     "execution_count": 18,
     "metadata": {},
     "output_type": "execute_result"
    }
   ],
   "source": [
    "#grouping by year and summing the deaths\n",
    "num_deaths_df.groupby('Year')['Data_Value'].sum().sort_values(ascending=False)"
   ]
  },
  {
   "cell_type": "code",
   "execution_count": 19,
   "id": "f9ac7627",
   "metadata": {},
   "outputs": [
    {
     "data": {
      "text/plain": [
       "Year\n",
       "2020    1311148.0\n",
       "2019    1026757.0\n",
       "2018     937172.0\n",
       "2017     555589.0\n",
       "2015     552054.0\n",
       "2016     452369.0\n",
       "2021     391396.0\n",
       "Name: Data_Value, dtype: float64"
      ]
     },
     "execution_count": 19,
     "metadata": {},
     "output_type": "execute_result"
    }
   ],
   "source": [
    "opioid_df.groupby('Year')['Data_Value'].sum().sort_values(ascending=False)"
   ]
  },
  {
   "cell_type": "code",
   "execution_count": 20,
   "id": "e17bbba4",
   "metadata": {
    "scrolled": true
   },
   "outputs": [
    {
     "data": {
      "text/plain": [
       "<AxesSubplot:xlabel='Year'>"
      ]
     },
     "execution_count": 20,
     "metadata": {},
     "output_type": "execute_result"
    },
    {
     "data": {
      "image/png": "[encoded data removed]",
      "text/plain": [
       "<Figure size 432x288 with 1 Axes>"
      ]
     },
     "metadata": {
      "needs_background": "light"
     },
     "output_type": "display_data"
    }
   ],
   "source": [
    "#plotting the data\n",
    "num_deaths_df.groupby('Year')['Data_Value'].sum().plot()"
   ]
  },
  {
   "cell_type": "code",
   "execution_count": 21,
   "id": "97deb245",
   "metadata": {},
   "outputs": [
    {
     "data": {
      "text/plain": [
       "<AxesSubplot:xlabel='Year'>"
      ]
     },
     "execution_count": 21,
     "metadata": {},
     "output_type": "execute_result"
    },
    {
     "data": {
      "image/png": "[encoded data removed]",
      "text/plain": [
       "<Figure size 432x288 with 1 Axes>"
      ]
     },
     "metadata": {
      "needs_background": "light"
     },
     "output_type": "display_data"
    }
   ],
   "source": [
    "opioid_df.groupby('Year')['Data_Value'].sum().plot()"
   ]
  },
  {
   "cell_type": "code",
   "execution_count": 25,
   "id": "4c192e6d",
   "metadata": {
    "scrolled": true
   },
   "outputs": [
    {
     "data": {
      "text/plain": [
       "State\n",
       "US    3465069.0\n",
       "OH     166984.0\n",
       "IL     107298.0\n",
       "MD      98016.0\n",
       "CA      93749.0\n",
       "NY      92622.0\n",
       "NC      90928.0\n",
       "NJ      85345.0\n",
       "MA      79635.0\n",
       "TN      73661.0\n",
       "VA      62762.0\n",
       "YC      60343.0\n",
       "AZ      52996.0\n",
       "CT      49339.0\n",
       "TX      46112.0\n",
       "KY      45278.0\n",
       "SC      44013.0\n",
       "GA      42232.0\n",
       "WA      42228.0\n",
       "MI      40393.0\n",
       "WI      39781.0\n",
       "WV      39089.0\n",
       "MO      38880.0\n",
       "IN      36205.0\n",
       "NV      22589.0\n",
       "CO      22513.0\n",
       "UT      22032.0\n",
       "NM      20252.0\n",
       "NH      19343.0\n",
       "OR      18739.0\n",
       "OK      16791.0\n",
       "ME      15761.0\n",
       "RI      14171.0\n",
       "DE      14053.0\n",
       "DC      12197.0\n",
       "IA       8623.0\n",
       "MS       7050.0\n",
       "VT       5476.0\n",
       "KS       4163.0\n",
       "AK       3485.0\n",
       "HI       2157.0\n",
       "WY       1818.0\n",
       "SD       1432.0\n",
       "MT        882.0\n",
       "Name: Data_Value, dtype: float64"
      ]
     },
     "execution_count": 25,
     "metadata": {},
     "output_type": "execute_result"
    }
   ],
   "source": [
    "#grouping by state and summing total opioid deaths\n",
    "opioid_df.groupby('State')['Data_Value'].sum().sort_values(ascending=False)"
   ]
  },
  {
   "cell_type": "markdown",
   "id": "05615c52",
   "metadata": {},
   "source": [
    "# Answers\n",
    "* The total number of deaths has increased over time.\n",
    "    * This can be seen by the increased in the plot of the deaths graph up until 2021, which is so because the data was taken during this year and does not represent the full years worth of data. Looking at similar data taken from the entire year of 2021 will likely show continued increase.\n",
    "* The total number of opioid deaths has also increased over time.\n",
    "    * The same issue with 2021 as with total deaths can be seen here.\n",
    "* The states with the highest number of opioid deaths were Ohio, Illinois, Maryland, California, and New York. The states with the lowest number were Montana, South Dakota, Wyoming, Hawaii and Alaska. \n",
    "    * These states make sense because large more populous states have more deaths and smaller less populous states have less deaths, with some exceptions."
   ]
  },
  {
   "cell_type": "markdown",
   "id": "e455ba4d",
   "metadata": {},
   "source": [
    "## Interpretation and Observations\n",
    "* Our group is looking closesly at Connecticut since there is lots of data for it, and I think that seeing that Connecticut is in the top half of Opioid deaths, but not at the top shows another reason why it is a good state to look at. It is fairly representative of an average state. \n",
    "* In the future, I would like to group my data by regions by mapping the states to regions and seeing if there were any patterns. I wanted to do this by state already, but it is difficult to look at a distribution of 50+ values. \n",
    "* Another question that arose for me is what percentage of drug overdose deaths are opioid deaths."
   ]
  },
  {
   "cell_type": "code",
   "execution_count": null,
   "id": "dfe6b356",
   "metadata": {},
   "outputs": [],
   "source": []
  }
 ],
 "metadata": {
  "kernelspec": {
   "display_name": "Python 3 (COMM318)",
   "language": "python",
   "name": "python3"
  },
  "language_info": {
   "codemirror_mode": {
    "name": "ipython",
    "version": 3
   },
   "file_extension": ".py",
   "mimetype": "text/x-python",
   "name": "python",
   "nbconvert_exporter": "python",
   "pygments_lexer": "ipython3",
   "version": "3.8.8"
  }
 },
 "nbformat": 4,
 "nbformat_minor": 5
}
